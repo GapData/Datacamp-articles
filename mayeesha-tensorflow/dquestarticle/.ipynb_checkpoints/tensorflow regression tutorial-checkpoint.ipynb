{
 "cells": [
  {
   "cell_type": "markdown",
   "metadata": {},
   "source": [
    "Tensorflow is Google's open source deep learning library originally developed by researchers at Google brain. Tensorflow is being used in nearly all of Google's products, including Google search, Google photos, speech recognition, gmail and many other areas. Since becoming public, tensorflow has become very popular. \n",
    "\n",
    "Tensorflow supports many platforms like cpu,gpu,android,ios and Raspberry pi and models can also be run on Google cloud directly. Many higher level API's like Keras, TFSlim has been launched with tensorflow in the backend. Its also used in production with Tensorflow Serve. Tensorboard, a great visualization library for machine learning also comes with Tensorflow. \n",
    "\n",
    "In this tutorial, we'll cover the basics of tensorflow and work with tensorflow on a multivariable regression problem using the high level api.The challenge would be to predict price of Airbnb listings from features like property type, neighbourhood, review scores etc. [AirBNB](https://www.airbnb.com/) is a online marketplace that enables people to rent or lease short term lodging including vacation and apartment rentals, homestays, hostel beds, hotels and even entire villas. We'll get used to how to handle a variety of features(numeric, categorical, text) with Tensorflow as we work through the dataset.\n",
    "\n",
    "![](../images/boston-airbnb.png)\n",
    "\n",
    "As part of the Airbnb Inside initiative, this dataset has been published in [Kaggle](www.kaggle.com), a platform that hosts many open datasets and runs machine learning competitions. To know more about the original source, see [here](http://insideairbnb.com/get-the-data.html). \n"
   ]
  },
  {
   "cell_type": "markdown",
   "metadata": {},
   "source": [
    "# Installation\n",
    "\n",
    "This tutorial uses tensorflow's latest release which is version 1.2.0. So you must use a version above 1.2 for running the code. Please see this [installation guide](https://www.tensorflow.org/install/) for details about how to get tensorflow. Also the cpu version will suffice for the sake of this tutorial. Guidelines and requirements for getting the gpu version is in the documentation.\n",
    "\n",
    "Here's the links to different platform installation guides :\n",
    "\n",
    "* [Windows](https://www.tensorflow.org/install/install_windows)\n",
    "* [Linux](https://www.tensorflow.org/install/install_linux)\n",
    "* [Mac OS X](https://www.tensorflow.org/install/install_mac) \n",
    "\n",
    "In Windows tensorflow only comes with python 3.5. So I recommend using [Anaconda](https://www.continuum.io/downloads), [creating an environment](https://conda.io/docs/py2or3.html#create-a-python-3-5-environment) with python 3.5 and then using the official guidelines for getting tensorflow.\n",
    "\n"
   ]
  },
  {
   "cell_type": "markdown",
   "metadata": {},
   "source": [
    "# Prerequisites\n",
    "\n",
    "This tutorial does not assume any familiarity with tensorflow. However it does assume basic programming skills in python, understanding of basic machine learning concepts(feature preprocessing, train-test split, loss function etc). Some experience with ```pandas``` dataframes and ```scikit-learn``` models may also help, but its completely optional."
   ]
  },
  {
   "cell_type": "markdown",
   "metadata": {},
   "source": [
    "# Tensorflow fundamentals\n",
    "\n",
    "In Tensorflow, everything is based on the concept of creating a computational graph. A computational graph is simply a series of tensorflow operations chained into a graph structure where the later operations may/may not depend on the first operations.All tensorflow programs can be divided into two parst conceptually, 'building the computational graph' and \"running the computational graph\". The nodes of the graph are the mathematical operations.The edges indicate which tensors go into a node and which tensor comes out after the operation. Each operation takes 0 or more tensors as input and produces a tensor as an output or does some computation depending on the definition of the operation.\n",
    "\n",
    "\"Tensor\" is the unit of the computational graph in Tensorflow. Tensors are similar to numpy arrays, they are basically multidimensional arrays. A zero dimensional tensor is a point that can be a constant or a variable. A one dimensional tensor is an array/vector. A two dimensional tensor is a ```n x m``` matrix and so on."
   ]
  },
  {
   "cell_type": "code",
   "execution_count": 1,
   "metadata": {},
   "outputs": [
    {
     "name": "stdout",
     "output_type": "stream",
     "text": [
      "1.2.0\n"
     ]
    }
   ],
   "source": [
    "import tensorflow as tf\n",
    "tf.logging.set_verbosity(tf.logging.INFO)\n",
    "print(tf.__version__)"
   ]
  },
  {
   "cell_type": "markdown",
   "metadata": {},
   "source": [
    "We can define two constant tensors a and b with ```tf.constant``` and add them up with ```tf.add```."
   ]
  },
  {
   "cell_type": "code",
   "execution_count": 2,
   "metadata": {},
   "outputs": [
    {
     "data": {
      "text/plain": [
       "<tf.Tensor 'Add:0' shape=() dtype=int32>"
      ]
     },
     "execution_count": 2,
     "metadata": {},
     "output_type": "execute_result"
    }
   ],
   "source": [
    "a = tf.constant(1,name = \"a\")\n",
    "b = tf.constant(5, name = \"b\")\n",
    "result = tf.add(a,b)\n",
    "result"
   ]
  },
  {
   "cell_type": "markdown",
   "metadata": {},
   "source": [
    "Even if we have run the function ```tf.add```, the code has not performed any computations \"yet\", rather it has simply built a computational graph. A graph just defines the operations that we want to perform. To evaluate ```result``` we have to run the code under a Tensorflow 'session'. A session takes a computational graph or part of a graph and executes it. It also holds the intermediate values and the results of performing the computation.\n",
    "\n",
    "Following code creates a Tensorflow session, and evaluates the output. See this [tutorial](https://danijar.com/what-is-a-tensorflow-session/) for understanding the difference between tensorflow graph and session. "
   ]
  },
  {
   "cell_type": "code",
   "execution_count": 3,
   "metadata": {},
   "outputs": [
    {
     "data": {
      "text/plain": [
       "6"
      ]
     },
     "execution_count": 3,
     "metadata": {},
     "output_type": "execute_result"
    }
   ],
   "source": [
    "with tf.Session() as sess:\n",
    "    result = result.eval()\n",
    "result"
   ]
  },
  {
   "cell_type": "markdown",
   "metadata": {},
   "source": [
    "\n",
    "# Tensorboard \n",
    "\n",
    "Tensorboard is a data visualization tool that comes packaged with tensorflow. To visualize that all of the operations happen inside a computational graph, we can use Tensorboard. Each operation gets stored into the default computational graph unless we specifically create another graph. We can save our graphs with by writing [summaries](https://www.tensorflow.org/api_guides/python/summary) about them with [summary writers](https://www.tensorflow.org/api_docs/python/tf/summary/FileWriter). Tensorboard creates visualizations out of these event log files.\n",
    "\n",
    "Here we pass a log directory and a computational graph into the summary writer object to save our computational graph. ```sess.graph``` contains the default computational graph for this session and ```writer``` writes it into the path provided in ```logdir```.  Note we have reset the default graph here to visualize only this sum operation instead of the former ones in the above examples. "
   ]
  },
  {
   "cell_type": "code",
   "execution_count": 4,
   "metadata": {
    "collapsed": true
   },
   "outputs": [],
   "source": [
    "tf.reset_default_graph()\n",
    "\n",
    "a = tf.constant(1, name = \"a\")\n",
    "b = tf.constant(5, name = \"b\")\n",
    "\n",
    "with tf.Session() as sess:\n",
    "    result  = tf.add(a,b, name = \"sum\").eval()\n",
    "    writer = tf.summary.FileWriter(logdir= \"../first_graph\",graph = sess.graph)\n"
   ]
  },
  {
   "cell_type": "markdown",
   "metadata": {},
   "source": [
    "To run TensorBoard, use the following command in the terminal \n",
    "\n",
    "```tensorboard --logdir=path/to/log-directory```\n",
    "\n",
    "In windows, use ```tensorboard --logdir path/to/log-directory```. \n",
    "\n",
    "Here logdir is ```../newgraph2```, so we can simply type\n",
    "\n",
    "```tensorboard --logdir=first_graph```\n",
    "\n",
    "Tensorboard's default port is 6006. So if you go to http://localhost:6006/#graphs tensorboard will be there. If we go under the graphs section we can see this visualization of our tiny computational graph. The node is a mathematical operation sum that takes in two inputs a and b.\n",
    "\n",
    "![kk](../images/graph1.png)\n",
    "\n"
   ]
  },
  {
   "cell_type": "markdown",
   "metadata": {},
   "source": [
    "# Tensorflow high level API "
   ]
  },
  {
   "cell_type": "markdown",
   "metadata": {},
   "source": [
    "If we were coding models from scratch we would have to define each variables, constants, matrices, write code for all the mathematical operations and train them under a session, which is difficult and error prone. Luckily Tensorflow's high level api ```tf.contrib.learn```(former ```skflow```) makes it easy to use many popular machine learning models including linear models, random forest, clustering and neural network by providing fully functional models that can be used out of the box. Skflow was originally a simplified interface for tensorflow that mimicked scikit-learn interface, but it has been merged with tensorflow.\n",
    "\n",
    "\n",
    "Canned models in the ```tf.contrib.learn``` library are called [```estimators```](https://www.tensorflow.org/api_docs/python/tf/contrib/learn/Estimator) . Estimators are the basic tensorflow model trainer and evaluator. These come with ```fit```, ```evaluate``` and ```predict``` methods like scikit-learn. We can also export the trained models.\n",
    "\n",
    "Now we are going to use the high level models to work on the regression problem with airbnb data. Data can be downloaded from Kaggle by using this link : [Boston Airbnb Open Data, Kaggle](https://www.kaggle.com/airbnb/boston) if you want to follow along with the code. We'll use two models in the tutorial, one linear and another neural network model.\n",
    "\n",
    "\n",
    "We'll follow this workflow to work with tensorflow's high level api :\n",
    "\n",
    "* Load the data and the libraries \n",
    "* Prepare the dataset for machine learning \n",
    "* Split the dataset into training and test set\n",
    "* Define the feature columns\n",
    "* Instantiate the model\n",
    "* Feed the features to the model with an input function\n",
    "* Fit and evaluate the model\n",
    "* Generate the predictions \n",
    "\n",
    "\n",
    "## Load the dataset "
   ]
  },
  {
   "cell_type": "code",
   "execution_count": 5,
   "metadata": {
    "collapsed": true
   },
   "outputs": [],
   "source": [
    "import pandas as pd\n",
    "import numpy as np\n",
    "import matplotlib.pyplot as plt\n",
    "import tensorflow as tf\n",
    "plt.style.use(\"seaborn\")\n",
    "%matplotlib inline"
   ]
  },
  {
   "cell_type": "markdown",
   "metadata": {},
   "source": [
    "## Dataset \n",
    "\n",
    "The dataset has ```3585``` rows and ```95``` columns. However we will only use a subset of the features.These features will be used :  \n",
    "\n",
    "* ```property_type``` : Categorical. Describes the type of the property. \n",
    "* ```room_type``` : Categorical. Describes the type of the room.\n",
    "* ```bathrooms``` : Number of Bathrooms.\n",
    "* ```bedrooms``` : Number of bedrooms.\n",
    "* ```amenities``` : A string describing all the facilities provided by the property.\n",
    "* ```beds``` : Number of beds.\n",
    "* ```bed_type``` : Type of the bed in listing. Categorical feature. \n",
    "* ```accommodates``` : Number of people the rental will accommodate. \n",
    "* ```host_total_listings_count```: Number of listings posted by the host.\n",
    "* ```number_of_reviews```: Number of reviews received by the rental.\n",
    "* ```review_scores_value``` : Average value of the reviews for this listing.\n",
    "* ```neighbourhood_cleansed``` : Categorical feature. Describes the neighbourhood of the rental.\n",
    "* ```cleaning_fee``` : Cleaning fee for the rental.\n",
    "* ```minimum_nights``` : Minimum nights the guest must stay to be considered for rental.\n",
    "* ```security_deposit``` : Amount of security deposit the guest has to pay to the host before renting.\n",
    "* ```host_is_superhost``` : Categorical. True if the host is a superhost. False otherwise.\n",
    "* ```instant_bookable``` : Categorical.True if the rental is instantly bookable. False Otherwise.\n",
    "* ```price``` : Continuous target variable for the regression task.\n",
    "\n",
    "\n",
    "\n",
    "Now we'll load the dataset with ```pandas```. Tensorflow integrates well with ```pandas``` and provides many useful functions to work with it."
   ]
  },
  {
   "cell_type": "code",
   "execution_count": 6,
   "metadata": {},
   "outputs": [
    {
     "name": "stdout",
     "output_type": "stream",
     "text": [
      "(3585, 18)\n"
     ]
    },
    {
     "data": {
      "text/html": [
       "<div>\n",
       "<style>\n",
       "    .dataframe thead tr:only-child th {\n",
       "        text-align: right;\n",
       "    }\n",
       "\n",
       "    .dataframe thead th {\n",
       "        text-align: left;\n",
       "    }\n",
       "\n",
       "    .dataframe tbody tr th {\n",
       "        vertical-align: top;\n",
       "    }\n",
       "</style>\n",
       "<table border=\"1\" class=\"dataframe\">\n",
       "  <thead>\n",
       "    <tr style=\"text-align: right;\">\n",
       "      <th></th>\n",
       "      <th>host_is_superhost</th>\n",
       "      <th>host_total_listings_count</th>\n",
       "      <th>neighbourhood_cleansed</th>\n",
       "      <th>property_type</th>\n",
       "      <th>room_type</th>\n",
       "      <th>accommodates</th>\n",
       "      <th>bathrooms</th>\n",
       "      <th>bedrooms</th>\n",
       "      <th>beds</th>\n",
       "      <th>bed_type</th>\n",
       "      <th>amenities</th>\n",
       "      <th>price</th>\n",
       "      <th>security_deposit</th>\n",
       "      <th>cleaning_fee</th>\n",
       "      <th>minimum_nights</th>\n",
       "      <th>number_of_reviews</th>\n",
       "      <th>review_scores_value</th>\n",
       "      <th>instant_bookable</th>\n",
       "    </tr>\n",
       "  </thead>\n",
       "  <tbody>\n",
       "    <tr>\n",
       "      <th>0</th>\n",
       "      <td>f</td>\n",
       "      <td>1</td>\n",
       "      <td>Roslindale</td>\n",
       "      <td>House</td>\n",
       "      <td>Entire home/apt</td>\n",
       "      <td>4</td>\n",
       "      <td>1.5</td>\n",
       "      <td>2.0</td>\n",
       "      <td>3.0</td>\n",
       "      <td>Real Bed</td>\n",
       "      <td>{TV,\"Wireless Internet\",Kitchen,\"Free Parking ...</td>\n",
       "      <td>$250.00</td>\n",
       "      <td>NaN</td>\n",
       "      <td>$35.00</td>\n",
       "      <td>2</td>\n",
       "      <td>0</td>\n",
       "      <td>NaN</td>\n",
       "      <td>f</td>\n",
       "    </tr>\n",
       "    <tr>\n",
       "      <th>1</th>\n",
       "      <td>f</td>\n",
       "      <td>1</td>\n",
       "      <td>Roslindale</td>\n",
       "      <td>Apartment</td>\n",
       "      <td>Private room</td>\n",
       "      <td>2</td>\n",
       "      <td>1.0</td>\n",
       "      <td>1.0</td>\n",
       "      <td>1.0</td>\n",
       "      <td>Real Bed</td>\n",
       "      <td>{TV,Internet,\"Wireless Internet\",\"Air Conditio...</td>\n",
       "      <td>$65.00</td>\n",
       "      <td>$95.00</td>\n",
       "      <td>$10.00</td>\n",
       "      <td>2</td>\n",
       "      <td>36</td>\n",
       "      <td>9.0</td>\n",
       "      <td>t</td>\n",
       "    </tr>\n",
       "  </tbody>\n",
       "</table>\n",
       "</div>"
      ],
      "text/plain": [
       "  host_is_superhost  host_total_listings_count neighbourhood_cleansed  \\\n",
       "0                 f                          1             Roslindale   \n",
       "1                 f                          1             Roslindale   \n",
       "\n",
       "  property_type        room_type  accommodates  bathrooms  bedrooms  beds  \\\n",
       "0         House  Entire home/apt             4        1.5       2.0   3.0   \n",
       "1     Apartment     Private room             2        1.0       1.0   1.0   \n",
       "\n",
       "   bed_type                                          amenities    price  \\\n",
       "0  Real Bed  {TV,\"Wireless Internet\",Kitchen,\"Free Parking ...  $250.00   \n",
       "1  Real Bed  {TV,Internet,\"Wireless Internet\",\"Air Conditio...   $65.00   \n",
       "\n",
       "  security_deposit cleaning_fee  minimum_nights  number_of_reviews  \\\n",
       "0              NaN       $35.00               2                  0   \n",
       "1           $95.00       $10.00               2                 36   \n",
       "\n",
       "   review_scores_value instant_bookable  \n",
       "0                  NaN                f  \n",
       "1                  9.0                t  "
      ]
     },
     "execution_count": 6,
     "metadata": {},
     "output_type": "execute_result"
    }
   ],
   "source": [
    "used_features = ['property_type','room_type','amenities','bathrooms','bedrooms','beds','bed_type','accommodates','host_total_listings_count'\n",
    "                ,'number_of_reviews','review_scores_value','neighbourhood_cleansed','cleaning_fee','minimum_nights','security_deposit','host_is_superhost',\n",
    "                 'instant_bookable', 'price']\n",
    "\n",
    "boston = pd.read_csv('../dquestarticle/boston_listings.csv', usecols = used_features)\n",
    "print(boston.shape)\n",
    "boston.head(2)"
   ]
  },
  {
   "cell_type": "markdown",
   "metadata": {},
   "source": [
    "## Data Preprocessing \n",
    "\n",
    "To use the features in our tensorflow model, we need to convert them to Tensors. But before that we need to take some more data cleaning steps to prepare our data for machine learning. Here's a brief overview of the cleaning steps. \n",
    "\n",
    "*  ```price```, ```security_deposit``` and ```cleaning_fee``` are numbers, but they are loaded as strings.These numbers also contain some non-numeric characters (```$ and ,```). We'll remove the non-numeric characters from the features, convert them to ```float``` and fill the missing values with the median value of each feature. \n",
    "\n",
    "* Similarly, some other features like ```bathroom```, ```bed``` has some missing values which are also filled with the median.\n",
    "\n",
    "* ```property_type``` is a categorical variable. The missing values are filled with the most common category ```Apartment```."
   ]
  },
  {
   "cell_type": "code",
   "execution_count": 7,
   "metadata": {
    "collapsed": true
   },
   "outputs": [],
   "source": [
    "for feature in [\"cleaning_fee\",\"security_deposit\",\"price\"]:\n",
    "    boston[feature] = boston[feature].map(lambda x:x.replace(\"$\",'').replace(\",\",''),na_action = 'ignore')\n",
    "    boston[feature] = boston[feature].astype(float)\n",
    "    boston[feature].fillna(boston[feature].median(),inplace = True)\n",
    "    \n",
    "    \n",
    "for feature in [\"bathrooms\",\"bedrooms\",\"beds\",\"review_scores_value\"]:\n",
    "    boston[feature].fillna(boston[feature].median(),inplace = True)\n",
    "    \n",
    "boston['property_type'].fillna('Apartment',inplace = True)"
   ]
  },
  {
   "cell_type": "markdown",
   "metadata": {},
   "source": [
    "Before moving on to the other features, we check our target variable ```price```. "
   ]
  },
  {
   "cell_type": "code",
   "execution_count": 8,
   "metadata": {},
   "outputs": [
    {
     "data": {
      "image/png": "[encoded data removed]",
      "text/plain": [
       "<matplotlib.figure.Figure at 0x5ead4e6fd0>"
      ]
     },
     "metadata": {},
     "output_type": "display_data"
    }
   ],
   "source": [
    "boston[\"price\"].plot(kind = 'hist',grid = True)\n",
    "plt.title(\"Price histogram before subsetting and log-transformation\");\n"
   ]
  },
  {
   "cell_type": "markdown",
   "metadata": {},
   "source": [
    "In the histogram we  can see most of the data falls under 500. So we'll use a subset of our dataset where the price ranges from 50-500 for now to remove very large or very small prices.We'll also log-transform the target variable to improve the linearity of the data."
   ]
  },
  {
   "cell_type": "code",
   "execution_count": 9,
   "metadata": {},
   "outputs": [
    {
     "data": {
      "image/png": "[encoded data removed]",
      "text/plain": [
       "<matplotlib.figure.Figure at 0x5ead622358>"
      ]
     },
     "metadata": {},
     "output_type": "display_data"
    }
   ],
   "source": [
    "boston = boston[(boston[\"price\"]>50)&(boston[\"price\"]<500)]\n",
    "target = np.log(boston.price)\n",
    "target.hist()\n",
    "plt.title(\"Price distribution after the subsetting and log-transformation\");"
   ]
  },
  {
   "cell_type": "markdown",
   "metadata": {},
   "source": [
    "```amenities``` feature is a string that contains all the facilities this rental provides. Let's look at an instance. The reason for including this feature is to show how to handle different sort of categorical columns. We'll transform this feature into a Dataframe that would say for each instance some facility like air conditioner or doorman is present for that listing or not."
   ]
  },
  {
   "cell_type": "code",
   "execution_count": 10,
   "metadata": {},
   "outputs": [
    {
     "data": {
      "text/plain": [
       "'{TV,\"Wireless Internet\",Kitchen,\"Free Parking on Premises\",\"Pets live on this property\",Dog(s),Heating,\"Family/Kid Friendly\",Washer,Dryer,\"Smoke Detector\",\"Fire Extinguisher\",Essentials,Shampoo,\"Laptop Friendly Workspace\"}'"
      ]
     },
     "execution_count": 10,
     "metadata": {},
     "output_type": "execute_result"
    }
   ],
   "source": [
    "boston[\"amenities\"][0]"
   ]
  },
  {
   "cell_type": "markdown",
   "metadata": {},
   "source": [
    "First we removed the extra non-alphabetical characters like brackets.Then we converted this string to features using the [```pd.Series.str.get_dummies```](https://pandas.pydata.org/pandas-docs/stable/generated/pandas.Series.str.get_dummies.html) method which makes a DataFrame out of the strings by splitting it on a seperator. \n",
    "\n",
    "We also drop two columns that has missing translation names because its not obvious what these features are."
   ]
  },
  {
   "cell_type": "code",
   "execution_count": 11,
   "metadata": {},
   "outputs": [
    {
     "data": {
      "text/html": [
       "<div>\n",
       "<style>\n",
       "    .dataframe thead tr:only-child th {\n",
       "        text-align: right;\n",
       "    }\n",
       "\n",
       "    .dataframe thead th {\n",
       "        text-align: left;\n",
       "    }\n",
       "\n",
       "    .dataframe tbody tr th {\n",
       "        vertical-align: top;\n",
       "    }\n",
       "</style>\n",
       "<table border=\"1\" class=\"dataframe\">\n",
       "  <thead>\n",
       "    <tr style=\"text-align: right;\">\n",
       "      <th></th>\n",
       "      <th>24-Hour_Check-in</th>\n",
       "      <th>Air_Conditioning</th>\n",
       "      <th>Breakfast</th>\n",
       "      <th>Buzzer/Wireless_Intercom</th>\n",
       "      <th>Cable_TV</th>\n",
       "      <th>Carbon_Monoxide_Detector</th>\n",
       "      <th>Cats</th>\n",
       "      <th>Dogs</th>\n",
       "      <th>Doorman</th>\n",
       "      <th>Dryer</th>\n",
       "      <th>...</th>\n",
       "      <th>Safety_Card</th>\n",
       "      <th>Shampoo</th>\n",
       "      <th>Smoke_Detector</th>\n",
       "      <th>Smoking_Allowed</th>\n",
       "      <th>Suitable_for_Events</th>\n",
       "      <th>TV</th>\n",
       "      <th>Washer</th>\n",
       "      <th>Washer_/_Dryer</th>\n",
       "      <th>Wheelchair_Accessible</th>\n",
       "      <th>Wireless_Internet</th>\n",
       "    </tr>\n",
       "  </thead>\n",
       "  <tbody>\n",
       "    <tr>\n",
       "      <th>0</th>\n",
       "      <td>0</td>\n",
       "      <td>0</td>\n",
       "      <td>0</td>\n",
       "      <td>0</td>\n",
       "      <td>0</td>\n",
       "      <td>0</td>\n",
       "      <td>0</td>\n",
       "      <td>1</td>\n",
       "      <td>0</td>\n",
       "      <td>1</td>\n",
       "      <td>...</td>\n",
       "      <td>0</td>\n",
       "      <td>1</td>\n",
       "      <td>1</td>\n",
       "      <td>0</td>\n",
       "      <td>0</td>\n",
       "      <td>1</td>\n",
       "      <td>1</td>\n",
       "      <td>0</td>\n",
       "      <td>0</td>\n",
       "      <td>1</td>\n",
       "    </tr>\n",
       "    <tr>\n",
       "      <th>1</th>\n",
       "      <td>0</td>\n",
       "      <td>1</td>\n",
       "      <td>0</td>\n",
       "      <td>0</td>\n",
       "      <td>0</td>\n",
       "      <td>1</td>\n",
       "      <td>0</td>\n",
       "      <td>1</td>\n",
       "      <td>0</td>\n",
       "      <td>1</td>\n",
       "      <td>...</td>\n",
       "      <td>0</td>\n",
       "      <td>1</td>\n",
       "      <td>1</td>\n",
       "      <td>0</td>\n",
       "      <td>0</td>\n",
       "      <td>1</td>\n",
       "      <td>1</td>\n",
       "      <td>0</td>\n",
       "      <td>0</td>\n",
       "      <td>1</td>\n",
       "    </tr>\n",
       "  </tbody>\n",
       "</table>\n",
       "<p>2 rows × 43 columns</p>\n",
       "</div>"
      ],
      "text/plain": [
       "   24-Hour_Check-in  Air_Conditioning  Breakfast  Buzzer/Wireless_Intercom  \\\n",
       "0                 0                 0          0                         0   \n",
       "1                 0                 1          0                         0   \n",
       "\n",
       "   Cable_TV  Carbon_Monoxide_Detector  Cats  Dogs  Doorman  Dryer  \\\n",
       "0         0                         0     0     1        0      1   \n",
       "1         0                         1     0     1        0      1   \n",
       "\n",
       "         ...          Safety_Card  Shampoo  Smoke_Detector  Smoking_Allowed  \\\n",
       "0        ...                    0        1               1                0   \n",
       "1        ...                    0        1               1                0   \n",
       "\n",
       "   Suitable_for_Events  TV  Washer  Washer_/_Dryer  Wheelchair_Accessible  \\\n",
       "0                    0   1       1               0                      0   \n",
       "1                    0   1       1               0                      0   \n",
       "\n",
       "   Wireless_Internet  \n",
       "0                  1  \n",
       "1                  1  \n",
       "\n",
       "[2 rows x 43 columns]"
      ]
     },
     "execution_count": 11,
     "metadata": {},
     "output_type": "execute_result"
    }
   ],
   "source": [
    "amenities = boston[\"amenities\"].str.replace('[{}\"]','')\n",
    "amenities = amenities.str.get_dummies(sep=\",\")\n",
    "amenities.columns = amenities.columns.str.replace(\" \",\"_\").str.replace(\"[()]\",\"\")\n",
    "\n",
    "drop_columns  = ['translation_missing:_en.hosting_amenity_49',\n",
    "       'translation_missing:_en.hosting_amenity_50']\n",
    "amenities.drop(drop_columns,axis=1,inplace=True)\n",
    "amenities.head(2)"
   ]
  },
  {
   "cell_type": "markdown",
   "metadata": {},
   "source": [
    "At last we merge the two Dataframes containing the base features from the ```boston``` Dataframe and the derived features from the ```amenities``` Dataframe using [```pd.concat```](http://pandas.pydata.org/pandas-docs/version/0.20/generated/pandas.concat.html) into one dataframe named ```features```. This is the end of our preprocessing. "
   ]
  },
  {
   "cell_type": "code",
   "execution_count": 12,
   "metadata": {},
   "outputs": [
    {
     "name": "stdout",
     "output_type": "stream",
     "text": [
      "(3269, 59)\n",
      "(3269,)\n"
     ]
    }
   ],
   "source": [
    "features = pd.concat([boston.drop([\"amenities\",\"price\"],axis=1),amenities],axis=1)\n",
    "features.head(2)\n",
    "print(features.shape)\n",
    "print(target.shape)"
   ]
  },
  {
   "cell_type": "markdown",
   "metadata": {},
   "source": [
    "## Split the Data "
   ]
  },
  {
   "cell_type": "markdown",
   "metadata": {},
   "source": [
    "Now that we have our features and the target, we can use scikit-learn to split the data. Scikit-learn provides a ```train_test_split``` function for splitting a pandas DataFrame into a training and testing set. ```train_test_split``` accepts the features and the target as parameters and returns the randomly shuffled data. We have 33% of the data in the training set and the rest is in the test set. We could also use numpy or tensorflow itself for splitting it, we just use scikit learn for ease."
   ]
  },
  {
   "cell_type": "code",
   "execution_count": 13,
   "metadata": {
    "collapsed": true
   },
   "outputs": [],
   "source": [
    "from sklearn.model_selection import train_test_split\n",
    "\n",
    "X_train, X_test, y_train, y_test = train_test_split(\n",
    "     features, target, test_size=0.33, random_state=42)"
   ]
  },
  {
   "cell_type": "markdown",
   "metadata": {},
   "source": [
    "## Define Feature Columns"
   ]
  },
  {
   "cell_type": "markdown",
   "metadata": {
    "collapsed": true
   },
   "source": [
    "When we instantiate a tensorflow estimator (create an object of the estimator class) we have to pass a list of feature columns to the ```feature_column``` parameter. [```FeatureColumns```](https://www.tensorflow.org/api_docs/python/tf/feature_column) provide a high level abstraction for ingesting and representing features in tf.learn Estimator models. Feature columns specify the data types for each of the features in our estimator.\n",
    "\n",
    "Tensorflow provides many different ways to handle the features. The type of Feature column to use depends on the feature type and the model type.\n",
    "\n",
    "* Feature type : Numeric and categorical features need to be handled differently.\n",
    "* Model type : Linear models and the neural network models handle categorical features differently.\n",
    "\n",
    "In this tutorial we'll show how to handle numeric and the categorical features. First we'll get the column names of the numeric features and the categorical features seperately using ```pandas.DataFrame.column``` that returns a list of column names of a dataframe. We could handle the features one by one too, depending on how we'll use them. ```pandas.DataFrame.select_dtypes``` help us to filter a dataframe based on the datatype of each column."
   ]
  },
  {
   "cell_type": "code",
   "execution_count": 14,
   "metadata": {
    "collapsed": true
   },
   "outputs": [],
   "source": [
    "# Get all the numeric feature names\n",
    "\n",
    "numeric_columns = boston.select_dtypes(exclude=[\"object\"]).columns.drop(\"price\")\n",
    "\n",
    "# Get all the categorical feature names that contains strings\n",
    "\n",
    "categorical_columns = features.columns.drop(numeric_columns)\n",
    "\n"
   ]
  },
  {
   "cell_type": "markdown",
   "metadata": {},
   "source": [
    "Numeric features can be represented by [```numeric_column```](https://www.tensorflow.org/api_docs/python/tf/feature_column/numeric_column) which is used for real valued or numerical features. When we create a ```numeric_column``` we have to pass a unique string to its e ```key``` parameter. The value of ```key``` will be used as the name of the column and also as the dictionary key that maps to the values of this feature when we'll feed the data during training. Refer to the documentation for learning about other parameters."
   ]
  },
  {
   "cell_type": "code",
   "execution_count": 15,
   "metadata": {},
   "outputs": [
    {
     "data": {
      "text/plain": [
       "_NumericColumn(key='host_total_listings_count', shape=(1,), default_value=None, dtype=tf.float32, normalizer_fn=None)"
      ]
     },
     "execution_count": 15,
     "metadata": {},
     "output_type": "execute_result"
    }
   ],
   "source": [
    "numeric_features = [tf.feature_column.numeric_column(key = column) for column in numeric_columns]\n",
    "numeric_features[0]"
   ]
  },
  {
   "cell_type": "markdown",
   "metadata": {},
   "source": [
    "There are many ways to handle categorical features. [```categorical_column_with_vocabulary_list```](https://www.tensorflow.org/api_docs/python/tf/feature_column/categorical_column_with_vocabulary_list) is just one of them. Its used when the inputs are in string or integer format and we already know the set of all possible values this categorical feature may take. If we don't know the possible categories or if there's too many possible values for a category(e.g countries, states etc), we can use [```categorical_column_with_hash_bucket```](https://www.tensorflow.org/api_docs/python/tf/feature_column/categorical_column_with_hash_bucket) instead.\n",
    "\n",
    "```categorical_column_with_vocabulary_list``` must have following inputs : \n",
    "\n",
    "* key : a unique string identifying the input feature which would be used as the name of the column.\n",
    "* vocabulary_list : An ordered iterable defining the possible values for this categorical feature\n",
    "\n",
    "For linear models I've found using this one has advantage over the one using hashing because it's easy to visualize the weights."
   ]
  },
  {
   "cell_type": "code",
   "execution_count": 16,
   "metadata": {},
   "outputs": [
    {
     "data": {
      "text/plain": [
       "_VocabularyListCategoricalColumn(key='room_type', vocabulary_list=('Entire home/apt', 'Private room', 'Shared room'), dtype=tf.string, default_value=-1)"
      ]
     },
     "execution_count": 16,
     "metadata": {},
     "output_type": "execute_result"
    }
   ],
   "source": [
    "categorical_features = [tf.feature_column.categorical_column_with_vocabulary_list(key = column, \n",
    "                                                                                 vocabulary_list = features[column].value_counts().keys()\n",
    "                                                                                 ) for column in categorical_columns]\n",
    "\n",
    "categorical_features[3]"
   ]
  },
  {
   "cell_type": "markdown",
   "metadata": {},
   "source": [
    "We combine all the numeric and the categorical feature columns to one list containing all of them."
   ]
  },
  {
   "cell_type": "code",
   "execution_count": 17,
   "metadata": {
    "collapsed": true
   },
   "outputs": [],
   "source": [
    "linear_features = numeric_features + categorical_features "
   ]
  },
  {
   "cell_type": "markdown",
   "metadata": {},
   "source": [
    "## Create linear model \n",
    "\n",
    "We instantiate the linear model by passing the list containing the feature columns to the ```feature_columns``` parameter. We also specify a model directory with the ```model_dir``` parameter because tensorflow will store the model graph and the checkpoints in that directory which we can later visualize with Tensorboard."
   ]
  },
  {
   "cell_type": "code",
   "execution_count": 18,
   "metadata": {},
   "outputs": [
    {
     "name": "stdout",
     "output_type": "stream",
     "text": [
      "INFO:tensorflow:Using default config.\n",
      "INFO:tensorflow:Using config: {'_task_type': None, '_tf_random_seed': None, '_num_ps_replicas': 0, '_session_config': None, '_keep_checkpoint_every_n_hours': 10000, '_save_checkpoints_steps': None, '_master': '', '_save_checkpoints_secs': 600, '_evaluation_master': '', '_model_dir': '../linear_regressor', '_save_summary_steps': 100, '_num_worker_replicas': 0, '_cluster_spec': <tensorflow.python.training.server_lib.ClusterSpec object at 0x0000005EB0B7ABE0>, '_keep_checkpoint_max': 5, '_task_id': 0, '_tf_config': gpu_options {\n",
      "  per_process_gpu_memory_fraction: 1\n",
      "}\n",
      ", '_environment': 'local', '_is_chief': True}\n"
     ]
    }
   ],
   "source": [
    "linear_regressor = tf.contrib.learn.LinearRegressor(feature_columns=linear_features,model_dir = \"../linear_regressor\")"
   ]
  },
  {
   "cell_type": "markdown",
   "metadata": {
    "collapsed": true
   },
   "source": [
    "## Fit the model\n",
    "\n",
    "\n",
    "The ```estimators``` expect an input function to be passed into the ```input_fn``` parameter of the fit method when training the model. This input function will feed the training data to the model when training by returning a mapping of the feature columns to tensors ( a dictionary where the keys are the names of the feature columns and the values are the training data converted into tensors) and labels. \n",
    "\n",
    "Input functions can be super simple like just returning the numpy arrays containing the features and the label or really complex. Complex input functions does the preprocessing for converting the features to tensors.\n",
    "\n",
    "The structure of an input function looks like this. \n",
    "\n",
    "```def my_input_fn():```\n",
    "\n",
    "    # Preprocess your data here...\n",
    "\n",
    "    # ...then return 1) a mapping of feature columns to Tensors with\n",
    "    # the corresponding feature data, and 2) a Tensor containing labels\n",
    "    return feature_cols, labels\n",
    "\n",
    "For learning more about the input functions, see this tutorial in the documentation named [\"Building Input functions\"](https://www.tensorflow.org/get_started/input_fn).\n",
    "\n",
    "Luckily tensorflow provides functionality for feeding a pandas Dataframe straight into a tensorflow estimator with the ```pandas_input_fn``` function. [```pandas_input_fn```](https://www.tensorflow.org/versions/master/api_docs/python/tf/estimator/inputs/pandas_input_fn) has many parameters but we will use the following. \n",
    "\n",
    "* ```x``` : pandas ```DataFrame``` object.\n",
    "* ```y``` : pandas ```Series``` object. None if absent\n",
    "* ```batch_size``` : int, size of batches to return\n",
    "* ```shuffle``` : boolean. whether to read the data in random order\n",
    "* ```num_epoch``` : int. number of epoches to iterate over the data.one epoch is going over all the training data once. None means it will cycle through input data forever.\n",
    "\n",
    "Note that ```pandas_input_fn``` returns an input function that would feed the data to the tensorflow model. Here we create two input functions ```training_input_fn``` and ```eval_input_fn``` that takes the training and test set features and labels respectively. \n",
    "\n",
    "We set the ```shuffle``` parameter to False as the data was already shuffled when we create the training and testing sets. ```num_epoch``` is set to ```None``` in the ```training_input_fn``` because we want to go over the training dataset multiple times as the model trains. The default value of ```num_epoch``` is 1 and we want to go over the test dataset only once to evaluate the model, so we let it remain as it is."
   ]
  },
  {
   "cell_type": "code",
   "execution_count": 19,
   "metadata": {
    "collapsed": true
   },
   "outputs": [],
   "source": [
    "# Create training input function\n",
    "\n",
    "training_input_fn = tf.estimator.inputs.pandas_input_fn(x = X_train,y=y_train,batch_size=32,shuffle=False, num_epochs = None)\n",
    "\n",
    "# create testing input function \n",
    "\n",
    "eval_input_fn = tf.estimator.inputs.pandas_input_fn(x=X_test,y=y_test,batch_size=32,shuffle=False)"
   ]
  },
  {
   "cell_type": "markdown",
   "metadata": {
    "collapsed": true
   },
   "source": [
    "We pass the ```training_input_fn``` to the ```input_fn``` parameter of the ```fit``` method and specify the number of steps we want to train the model. Note that we simply need to pass the function to the fit method, not the return value of a function call. So it'd be ```input_fn = training_input_fn``` instead of ```input_fn = training_input_fn()```. Adding the brackets after the function name will evaluate the function instead of just passing it."
   ]
  },
  {
   "cell_type": "code",
   "execution_count": 20,
   "metadata": {},
   "outputs": [
    {
     "name": "stdout",
     "output_type": "stream",
     "text": [
      "WARNING:tensorflow:From C:\\Users\\User\\Anaconda3\\envs\\py35\\lib\\site-packages\\tensorflow\\contrib\\learn\\python\\learn\\estimators\\head.py:625: scalar_summary (from tensorflow.python.ops.logging_ops) is deprecated and will be removed after 2016-11-30.\n",
      "Instructions for updating:\n",
      "Please switch to tf.summary.scalar. Note that tf.summary.scalar uses the node name instead of the tag. This means that TensorFlow will automatically de-duplicate summary names based on the scope they are created in. Also, passing a tensor or list of tags to a scalar summary op is no longer supported.\n",
      "INFO:tensorflow:Create CheckpointSaverHook.\n",
      "INFO:tensorflow:Saving checkpoints for 1 into ../linear_regressor\\model.ckpt.\n",
      "INFO:tensorflow:loss = 26.7607, step = 1\n",
      "INFO:tensorflow:global_step/sec: 47.3151\n",
      "INFO:tensorflow:loss = 0.14979, step = 101 (2.083 sec)\n",
      "INFO:tensorflow:global_step/sec: 73.803\n",
      "INFO:tensorflow:loss = 0.105706, step = 201 (1.355 sec)\n",
      "INFO:tensorflow:global_step/sec: 73.8027\n",
      "INFO:tensorflow:loss = 0.154987, step = 301 (1.357 sec)\n",
      "INFO:tensorflow:global_step/sec: 70.9218\n",
      "INFO:tensorflow:loss = 0.0873958, step = 401 (1.403 sec)\n",
      "INFO:tensorflow:global_step/sec: 68.9162\n",
      "INFO:tensorflow:loss = 0.132903, step = 501 (1.450 sec)\n",
      "INFO:tensorflow:global_step/sec: 70.422\n",
      "INFO:tensorflow:loss = 0.141897, step = 601 (1.428 sec)\n",
      "INFO:tensorflow:global_step/sec: 69.012\n",
      "INFO:tensorflow:loss = 0.0906017, step = 701 (1.446 sec)\n",
      "INFO:tensorflow:global_step/sec: 71.2252\n",
      "INFO:tensorflow:loss = 0.0865839, step = 801 (1.405 sec)\n",
      "INFO:tensorflow:global_step/sec: 67.6109\n",
      "INFO:tensorflow:loss = 0.138655, step = 901 (1.483 sec)\n",
      "INFO:tensorflow:global_step/sec: 66.0906\n",
      "INFO:tensorflow:loss = 0.176207, step = 1001 (1.512 sec)\n",
      "INFO:tensorflow:global_step/sec: 68.2574\n",
      "INFO:tensorflow:loss = 0.0844911, step = 1101 (1.462 sec)\n",
      "INFO:tensorflow:global_step/sec: 67.2922\n",
      "INFO:tensorflow:loss = 0.0745964, step = 1201 (1.481 sec)\n",
      "INFO:tensorflow:global_step/sec: 67.9326\n",
      "INFO:tensorflow:loss = 0.0452845, step = 1301 (1.478 sec)\n",
      "INFO:tensorflow:global_step/sec: 66.2219\n",
      "INFO:tensorflow:loss = 0.041527, step = 1401 (1.508 sec)\n",
      "INFO:tensorflow:global_step/sec: 62.2025\n",
      "INFO:tensorflow:loss = 0.0497913, step = 1501 (1.611 sec)\n",
      "INFO:tensorflow:global_step/sec: 60.2889\n",
      "INFO:tensorflow:loss = 0.0837625, step = 1601 (1.657 sec)\n",
      "INFO:tensorflow:global_step/sec: 69.2501\n",
      "INFO:tensorflow:loss = 0.0708005, step = 1701 (1.445 sec)\n",
      "INFO:tensorflow:global_step/sec: 74.9654\n",
      "INFO:tensorflow:loss = 0.0939681, step = 1801 (1.336 sec)\n",
      "INFO:tensorflow:global_step/sec: 74.5875\n",
      "INFO:tensorflow:loss = 0.149304, step = 1901 (1.330 sec)\n",
      "INFO:tensorflow:Saving checkpoints for 2000 into ../linear_regressor\\model.ckpt.\n",
      "INFO:tensorflow:Loss for final step: 0.0734839.\n"
     ]
    },
    {
     "data": {
      "text/plain": [
       "LinearRegressor(params={'optimizer': None, 'joint_weights': False, 'gradient_clip_norm': None, 'feature_columns': [_NumericColumn(key='host_total_listings_count', shape=(1,), default_value=None, dtype=tf.float32, normalizer_fn=None), _NumericColumn(key='accommodates', shape=(1,), default_value=None, dtype=tf.float32, normalizer_fn=None), _NumericColumn(key='bathrooms', shape=(1,), default_value=None, dtype=tf.float32, normalizer_fn=None), _NumericColumn(key='bedrooms', shape=(1,), default_value=None, dtype=tf.float32, normalizer_fn=None), _NumericColumn(key='beds', shape=(1,), default_value=None, dtype=tf.float32, normalizer_fn=None), _NumericColumn(key='security_deposit', shape=(1,), default_value=None, dtype=tf.float32, normalizer_fn=None), _NumericColumn(key='cleaning_fee', shape=(1,), default_value=None, dtype=tf.float32, normalizer_fn=None), _NumericColumn(key='minimum_nights', shape=(1,), default_value=None, dtype=tf.float32, normalizer_fn=None), _NumericColumn(key='number_of_reviews', shape=(1,), default_value=None, dtype=tf.float32, normalizer_fn=None), _NumericColumn(key='review_scores_value', shape=(1,), default_value=None, dtype=tf.float32, normalizer_fn=None), _VocabularyListCategoricalColumn(key='host_is_superhost', vocabulary_list=('f', 't'), dtype=tf.string, default_value=-1), _VocabularyListCategoricalColumn(key='neighbourhood_cleansed', vocabulary_list=('Jamaica Plain', 'South End', 'Back Bay', 'Fenway', 'Dorchester', 'Allston', 'Beacon Hill', 'Downtown', 'South Boston', 'Brighton', 'East Boston', 'North End', 'Roxbury', 'Charlestown', 'Mission Hill', 'South Boston Waterfront', 'Chinatown', 'West End', 'Roslindale', 'West Roxbury', 'Hyde Park', 'Bay Village', 'Mattapan', 'Longwood Medical Area', 'Leather District'), dtype=tf.string, default_value=-1), _VocabularyListCategoricalColumn(key='property_type', vocabulary_list=('Apartment', 'House', 'Condominium', 'Townhouse', 'Bed & Breakfast', 'Loft', 'Other', 'Boat', 'Villa', 'Entire Floor', 'Camper/RV', 'Guesthouse', 'Dorm'), dtype=tf.string, default_value=-1), _VocabularyListCategoricalColumn(key='room_type', vocabulary_list=('Entire home/apt', 'Private room', 'Shared room'), dtype=tf.string, default_value=-1), _VocabularyListCategoricalColumn(key='bed_type', vocabulary_list=('Real Bed', 'Futon', 'Pull-out Sofa', 'Airbed', 'Couch'), dtype=tf.string, default_value=-1), _VocabularyListCategoricalColumn(key='instant_bookable', vocabulary_list=('f', 't'), dtype=tf.string, default_value=-1), _VocabularyListCategoricalColumn(key='24-Hour_Check-in', vocabulary_list=(0, 1), dtype=tf.int64, default_value=-1), _VocabularyListCategoricalColumn(key='Air_Conditioning', vocabulary_list=(1, 0), dtype=tf.int64, default_value=-1), _VocabularyListCategoricalColumn(key='Breakfast', vocabulary_list=(0, 1), dtype=tf.int64, default_value=-1), _VocabularyListCategoricalColumn(key='Buzzer/Wireless_Intercom', vocabulary_list=(0, 1), dtype=tf.int64, default_value=-1), _VocabularyListCategoricalColumn(key='Cable_TV', vocabulary_list=(1, 0), dtype=tf.int64, default_value=-1), _VocabularyListCategoricalColumn(key='Carbon_Monoxide_Detector', vocabulary_list=(1, 0), dtype=tf.int64, default_value=-1), _VocabularyListCategoricalColumn(key='Cats', vocabulary_list=(0, 1), dtype=tf.int64, default_value=-1), _VocabularyListCategoricalColumn(key='Dogs', vocabulary_list=(0, 1), dtype=tf.int64, default_value=-1), _VocabularyListCategoricalColumn(key='Doorman', vocabulary_list=(0, 1), dtype=tf.int64, default_value=-1), _VocabularyListCategoricalColumn(key='Dryer', vocabulary_list=(1, 0), dtype=tf.int64, default_value=-1), _VocabularyListCategoricalColumn(key='Elevator_in_Building', vocabulary_list=(0, 1), dtype=tf.int64, default_value=-1), _VocabularyListCategoricalColumn(key='Essentials', vocabulary_list=(1, 0), dtype=tf.int64, default_value=-1), _VocabularyListCategoricalColumn(key='Family/Kid_Friendly', vocabulary_list=(1, 0), dtype=tf.int64, default_value=-1), _VocabularyListCategoricalColumn(key='Fire_Extinguisher', vocabulary_list=(0, 1), dtype=tf.int64, default_value=-1), _VocabularyListCategoricalColumn(key='First_Aid_Kit', vocabulary_list=(0, 1), dtype=tf.int64, default_value=-1), _VocabularyListCategoricalColumn(key='Free_Parking_on_Premises', vocabulary_list=(0, 1), dtype=tf.int64, default_value=-1), _VocabularyListCategoricalColumn(key='Free_Parking_on_Street', vocabulary_list=(0, 1), dtype=tf.int64, default_value=-1), _VocabularyListCategoricalColumn(key='Gym', vocabulary_list=(0, 1), dtype=tf.int64, default_value=-1), _VocabularyListCategoricalColumn(key='Hair_Dryer', vocabulary_list=(1, 0), dtype=tf.int64, default_value=-1), _VocabularyListCategoricalColumn(key='Hangers', vocabulary_list=(1, 0), dtype=tf.int64, default_value=-1), _VocabularyListCategoricalColumn(key='Heating', vocabulary_list=(1, 0), dtype=tf.int64, default_value=-1), _VocabularyListCategoricalColumn(key='Hot_Tub', vocabulary_list=(0, 1), dtype=tf.int64, default_value=-1), _VocabularyListCategoricalColumn(key='Indoor_Fireplace', vocabulary_list=(0, 1), dtype=tf.int64, default_value=-1), _VocabularyListCategoricalColumn(key='Internet', vocabulary_list=(1, 0), dtype=tf.int64, default_value=-1), _VocabularyListCategoricalColumn(key='Iron', vocabulary_list=(1, 0), dtype=tf.int64, default_value=-1), _VocabularyListCategoricalColumn(key='Kitchen', vocabulary_list=(1, 0), dtype=tf.int64, default_value=-1), _VocabularyListCategoricalColumn(key='Laptop_Friendly_Workspace', vocabulary_list=(1, 0), dtype=tf.int64, default_value=-1), _VocabularyListCategoricalColumn(key='Lock_on_Bedroom_Door', vocabulary_list=(0, 1), dtype=tf.int64, default_value=-1), _VocabularyListCategoricalColumn(key='Other_pets', vocabulary_list=(0, 1), dtype=tf.int64, default_value=-1), _VocabularyListCategoricalColumn(key='Paid_Parking_Off_Premises', vocabulary_list=(0, 1), dtype=tf.int64, default_value=-1), _VocabularyListCategoricalColumn(key='Pets_Allowed', vocabulary_list=(0, 1), dtype=tf.int64, default_value=-1), _VocabularyListCategoricalColumn(key='Pets_live_on_this_property', vocabulary_list=(0, 1), dtype=tf.int64, default_value=-1), _VocabularyListCategoricalColumn(key='Pool', vocabulary_list=(0, 1), dtype=tf.int64, default_value=-1), _VocabularyListCategoricalColumn(key='Safety_Card', vocabulary_list=(0, 1), dtype=tf.int64, default_value=-1), _VocabularyListCategoricalColumn(key='Shampoo', vocabulary_list=(1, 0), dtype=tf.int64, default_value=-1), _VocabularyListCategoricalColumn(key='Smoke_Detector', vocabulary_list=(1, 0), dtype=tf.int64, default_value=-1), _VocabularyListCategoricalColumn(key='Smoking_Allowed', vocabulary_list=(0, 1), dtype=tf.int64, default_value=-1), _VocabularyListCategoricalColumn(key='Suitable_for_Events', vocabulary_list=(0, 1), dtype=tf.int64, default_value=-1), _VocabularyListCategoricalColumn(key='TV', vocabulary_list=(1, 0), dtype=tf.int64, default_value=-1), _VocabularyListCategoricalColumn(key='Washer', vocabulary_list=(1, 0), dtype=tf.int64, default_value=-1), _VocabularyListCategoricalColumn(key='Washer_/_Dryer', vocabulary_list=(0, 1), dtype=tf.int64, default_value=-1), _VocabularyListCategoricalColumn(key='Wheelchair_Accessible', vocabulary_list=(0, 1), dtype=tf.int64, default_value=-1), _VocabularyListCategoricalColumn(key='Wireless_Internet', vocabulary_list=(1, 0), dtype=tf.int64, default_value=-1)], 'head': <tensorflow.contrib.learn.python.learn.estimators.head._RegressionHead object at 0x0000005EAEAA1860>})"
      ]
     },
     "execution_count": 20,
     "metadata": {},
     "output_type": "execute_result"
    }
   ],
   "source": [
    "linear_regressor.fit(input_fn = training_input_fn,steps=2000)"
   ]
  },
  {
   "cell_type": "markdown",
   "metadata": {},
   "source": [
    "## Evaluate the model"
   ]
  },
  {
   "cell_type": "markdown",
   "metadata": {},
   "source": [
    "For evaluating the model we simply pass the ```eval_input_fn``` to the ```input_fn``` parameter in ```regressor.evaluate``` method as we did earlier with the ```fit``` method. It returns a ```dict``` containing loss after evaluating the model on the test set. Currently loss is defined as mean squared error(MSE) in the ```LinearRegressor``` model. If you want to build your own estimator see this [tutorial](https://www.tensorflow.org/extend/estimators)."
   ]
  },
  {
   "cell_type": "code",
   "execution_count": 21,
   "metadata": {},
   "outputs": [
    {
     "name": "stdout",
     "output_type": "stream",
     "text": [
      "WARNING:tensorflow:From C:\\Users\\User\\Anaconda3\\envs\\py35\\lib\\site-packages\\tensorflow\\contrib\\learn\\python\\learn\\estimators\\head.py:625: scalar_summary (from tensorflow.python.ops.logging_ops) is deprecated and will be removed after 2016-11-30.\n",
      "Instructions for updating:\n",
      "Please switch to tf.summary.scalar. Note that tf.summary.scalar uses the node name instead of the tag. This means that TensorFlow will automatically de-duplicate summary names based on the scope they are created in. Also, passing a tensor or list of tags to a scalar summary op is no longer supported.\n",
      "INFO:tensorflow:Starting evaluation at 2017-08-25-20:03:45\n",
      "INFO:tensorflow:Restoring parameters from ../linear_regressor\\model.ckpt-2000\n",
      "INFO:tensorflow:Finished evaluation at 2017-08-25-20:03:52\n",
      "INFO:tensorflow:Saving dict for global step 2000: global_step = 2000, loss = 0.0920125\n",
      "Loss is 0.0920125\n"
     ]
    }
   ],
   "source": [
    "loss = linear_regressor.evaluate(input_fn = eval_input_fn)['loss']\n",
    "print(\"Loss is \" + str(loss))"
   ]
  },
  {
   "cell_type": "markdown",
   "metadata": {
    "collapsed": true
   },
   "source": [
    "```LinearRegressor.predict_scores``` method returns a ```generator``` for yielding predictions. Since we have set the ```num_epoch``` to 1 the input function we are using to feed the data to the evaluation function will go over the test dataset only once. We can easily convert it to a list for getting the predictions."
   ]
  },
  {
   "cell_type": "code",
   "execution_count": 22,
   "metadata": {},
   "outputs": [
    {
     "name": "stdout",
     "output_type": "stream",
     "text": [
      "INFO:tensorflow:Restoring parameters from ../linear_regressor\\model.ckpt-2000\n"
     ]
    }
   ],
   "source": [
    "pred = list(linear_regressor.predict_scores(input_fn = eval_input_fn))"
   ]
  },
  {
   "cell_type": "markdown",
   "metadata": {},
   "source": [
    "We can use the R^2 score([r2 score](http://scikit-learn.org/stable/modules/generated/sklearn.metrics.r2_score.html))for further evaluating the linear model. Maximum R^2 score is 1. The closer the score is to 1 the better the model. "
   ]
  },
  {
   "cell_type": "code",
   "execution_count": 23,
   "metadata": {},
   "outputs": [
    {
     "data": {
      "text/plain": [
       "0.66349228249868974"
      ]
     },
     "execution_count": 23,
     "metadata": {},
     "output_type": "execute_result"
    }
   ],
   "source": [
    "from sklearn.metrics import r2_score\n",
    "r2_score(y_test,pred)"
   ]
  },
  {
   "cell_type": "markdown",
   "metadata": {},
   "source": [
    "This model has a R^2 score of 0.62 which is not that bad for a linear model. We can also visualize the results with matplotlib."
   ]
  },
  {
   "cell_type": "code",
   "execution_count": 24,
   "metadata": {},
   "outputs": [
    {
     "data": {
      "text/plain": [
       "''"
      ]
     },
     "execution_count": 24,
     "metadata": {},
     "output_type": "execute_result"
    },
    {
     "data": {
      "image/png": "[encoded data removed]",
      "text/plain": [
       "<matplotlib.figure.Figure at 0x5ec0c2ae48>"
      ]
     },
     "metadata": {},
     "output_type": "display_data"
    }
   ],
   "source": [
    "plt.scatter(y_test,pred,alpha = 1)\n",
    "plt.xlabel(\"actual values\")\n",
    "plt.ylabel(\"predicted values\")\n",
    "plt.title(\"Linear model predictions\")\n",
    ";"
   ]
  },
  {
   "cell_type": "markdown",
   "metadata": {},
   "source": [
    "## Visualizing Feature Weights"
   ]
  },
  {
   "cell_type": "markdown",
   "metadata": {},
   "source": [
    "We may want to check the feature weights for the ```linear_regressor``` model. We can find the variable names for each feature from the model by using the ```get_variable_names``` method first and then get the weights by using those names. Here we demonstrate how to get the feature weights for the neighbourhoods and visualize them with a ```pandas``` dataframe for convinience. \n",
    "\n",
    "First we check how the variable names look like by printing a few names."
   ]
  },
  {
   "cell_type": "code",
   "execution_count": 25,
   "metadata": {},
   "outputs": [
    {
     "data": {
      "text/plain": [
       "['linear/linear_model/24-Hour_Check-in/weights']"
      ]
     },
     "execution_count": 25,
     "metadata": {},
     "output_type": "execute_result"
    }
   ],
   "source": [
    "linear_regressor.get_variable_names()[1:2]"
   ]
  },
  {
   "cell_type": "markdown",
   "metadata": {},
   "source": [
    "Then we get the feature weights for the ```neighbourhood_cleansed``` categorical feature and store them in ```property_weights```. I've made a Dataframe with the feature weights as values and the different neighbourhood names as index\n",
    "for convinience. "
   ]
  },
  {
   "cell_type": "code",
   "execution_count": 26,
   "metadata": {},
   "outputs": [
    {
     "data": {
      "image/png": "[encoded data removed]",
      "text/plain": [
       "<matplotlib.figure.Figure at 0x5ec0dba780>"
      ]
     },
     "metadata": {},
     "output_type": "display_data"
    }
   ],
   "source": [
    "property_weights = linear_regressor.get_variable_value('linear/linear_model/neighbourhood_cleansed/weights').flatten()\n",
    "property_keys = boston[\"neighbourhood_cleansed\"].value_counts().keys()\n",
    "pd.DataFrame({\"Weights\":property_weights},index=property_keys).sort_values(\"Weights\",ascending=True).plot(kind=\"barh\", \n",
    "                                                                                                          figsize= (8,7), \n",
    "                                                                                                          grid = False\n",
    "                                                                                                         );"
   ]
  },
  {
   "cell_type": "markdown",
   "metadata": {},
   "source": [
    "## Visualize Linear Model with Tensorboard "
   ]
  },
  {
   "cell_type": "markdown",
   "metadata": {
    "collapsed": true
   },
   "source": [
    "As mentioned earlier, Tensorboard makes visualizing any model really easy. We simply need to set the ```logdir``` parameter to the directory we have saved our high level model when we want to visualize the model. Remember when we instantiated the model we can set the ```model_dir``` parameter to store the model. Tensorflow automatically save checkpoints and the details of the models under the hood in the model directory and we visualize them with tensorboard. \n",
    "\n",
    "Let's visualize our linear model with Tensorboard first. Type the following commands in the terminal\n",
    "\n",
    "```tensorboard --logdir=linear_regressor``` \n",
    "\n",
    "or \n",
    "\n",
    "```tensorboard --logdir linear_regressor```  (for windows)\n",
    "\n",
    "We can visualize the loss curve under scalars and see the model under Graphs section.\n",
    "\n",
    "![](../images/loss_linear.png)\n",
    "\n",
    "Also the sub-graphs can be visualized by clicking on them.\n",
    "\n",
    "![](../images/linear_graph.png)\n"
   ]
  },
  {
   "cell_type": "markdown",
   "metadata": {
    "collapsed": true
   },
   "source": [
    "# Using Neural Network Model"
   ]
  },
  {
   "cell_type": "markdown",
   "metadata": {},
   "source": [
    "Tensorflow makes creating neural networks and training them really easy with its high level api. To make [regular feed forward neural networks](https://en.wikipedia.org/wiki/Feedforward_neural_network), we simply have to specify how many nodes we want in each layer when we create the neural network model. \n",
    "\n",
    "\n",
    "Numerical features can be fed into a neural network without any change. But categorical features should be converted to ```indicator_column``` or ```embedding_column``` to feed them into the network. Indicator columns provide multi-hot representation of given categorical column but sparse features(columns containing mostly 0s) should be converted to the embedding columns. Here most features are actually not sparse, so we simply use the ```indicator_columns```.\n",
    "\n",
    "We'll convert all of our categorical features to their one hot representation now with ```indicator_columns```."
   ]
  },
  {
   "cell_type": "code",
   "execution_count": 27,
   "metadata": {
    "collapsed": true
   },
   "outputs": [],
   "source": [
    "indicator_features = [tf.feature_column.indicator_column(feature) for feature in categorical_features]"
   ]
  },
  {
   "cell_type": "markdown",
   "metadata": {},
   "source": [
    "Again we get all the numeric and categorical features and instantiate the model."
   ]
  },
  {
   "cell_type": "code",
   "execution_count": 28,
   "metadata": {},
   "outputs": [
    {
     "name": "stdout",
     "output_type": "stream",
     "text": [
      "INFO:tensorflow:Using default config.\n",
      "INFO:tensorflow:Using config: {'_task_type': None, '_tf_random_seed': None, '_num_ps_replicas': 0, '_session_config': None, '_keep_checkpoint_every_n_hours': 10000, '_save_checkpoints_steps': None, '_master': '', '_save_checkpoints_secs': 600, '_evaluation_master': '', '_model_dir': '../dnnregressor', '_save_summary_steps': 100, '_num_worker_replicas': 0, '_cluster_spec': <tensorflow.python.training.server_lib.ClusterSpec object at 0x0000005EC105C668>, '_keep_checkpoint_max': 5, '_task_id': 0, '_tf_config': gpu_options {\n",
      "  per_process_gpu_memory_fraction: 1\n",
      "}\n",
      ", '_environment': 'local', '_is_chief': True}\n"
     ]
    }
   ],
   "source": [
    "dnn_features = numeric_features + indicator_features \n",
    "dnnregressor = tf.contrib.learn.DNNRegressor(feature_columns=dnn_features, hidden_units=[10,20,10],model_dir=\"../dnnregressor\")"
   ]
  },
  {
   "cell_type": "markdown",
   "metadata": {},
   "source": [
    "We pass the input function just like the linear regression model to train it."
   ]
  },
  {
   "cell_type": "code",
   "execution_count": 29,
   "metadata": {},
   "outputs": [
    {
     "name": "stdout",
     "output_type": "stream",
     "text": [
      "WARNING:tensorflow:From C:\\Users\\User\\Anaconda3\\envs\\py35\\lib\\site-packages\\tensorflow\\contrib\\learn\\python\\learn\\estimators\\head.py:625: scalar_summary (from tensorflow.python.ops.logging_ops) is deprecated and will be removed after 2016-11-30.\n",
      "Instructions for updating:\n",
      "Please switch to tf.summary.scalar. Note that tf.summary.scalar uses the node name instead of the tag. This means that TensorFlow will automatically de-duplicate summary names based on the scope they are created in. Also, passing a tensor or list of tags to a scalar summary op is no longer supported.\n",
      "INFO:tensorflow:Create CheckpointSaverHook.\n",
      "INFO:tensorflow:Saving checkpoints for 1 into ../dnnregressor\\model.ckpt.\n",
      "INFO:tensorflow:loss = 396.481, step = 1\n",
      "INFO:tensorflow:global_step/sec: 76.9869\n",
      "INFO:tensorflow:loss = 0.409653, step = 101 (1.312 sec)\n",
      "INFO:tensorflow:global_step/sec: 91.5938\n",
      "INFO:tensorflow:loss = 0.354349, step = 201 (1.082 sec)\n",
      "INFO:tensorflow:global_step/sec: 90.5154\n",
      "INFO:tensorflow:loss = 0.420461, step = 301 (1.110 sec)\n",
      "INFO:tensorflow:global_step/sec: 92.1004\n",
      "INFO:tensorflow:loss = 0.244596, step = 401 (1.081 sec)\n",
      "INFO:tensorflow:global_step/sec: 93.4788\n",
      "INFO:tensorflow:loss = 0.243267, step = 501 (1.077 sec)\n",
      "INFO:tensorflow:global_step/sec: 91.0099\n",
      "INFO:tensorflow:loss = 0.231375, step = 601 (1.098 sec)\n",
      "INFO:tensorflow:global_step/sec: 91.9308\n",
      "INFO:tensorflow:loss = 0.249442, step = 701 (1.088 sec)\n",
      "INFO:tensorflow:global_step/sec: 95.0792\n",
      "INFO:tensorflow:loss = 0.119806, step = 801 (1.050 sec)\n",
      "INFO:tensorflow:global_step/sec: 88.9054\n",
      "INFO:tensorflow:loss = 0.251447, step = 901 (1.128 sec)\n",
      "INFO:tensorflow:global_step/sec: 92.1853\n",
      "INFO:tensorflow:loss = 0.270509, step = 1001 (1.084 sec)\n",
      "INFO:tensorflow:global_step/sec: 90.9272\n",
      "INFO:tensorflow:loss = 0.153993, step = 1101 (1.100 sec)\n",
      "INFO:tensorflow:global_step/sec: 91.4261\n",
      "INFO:tensorflow:loss = 0.112209, step = 1201 (1.092 sec)\n",
      "INFO:tensorflow:global_step/sec: 92.4412\n",
      "INFO:tensorflow:loss = 0.0968978, step = 1301 (1.083 sec)\n",
      "INFO:tensorflow:global_step/sec: 91.8465\n",
      "INFO:tensorflow:loss = 0.102703, step = 1401 (1.092 sec)\n",
      "INFO:tensorflow:global_step/sec: 92.4412\n",
      "INFO:tensorflow:loss = 0.108605, step = 1501 (1.080 sec)\n",
      "INFO:tensorflow:global_step/sec: 89.0632\n",
      "INFO:tensorflow:loss = 0.163491, step = 1601 (1.124 sec)\n",
      "INFO:tensorflow:global_step/sec: 92.3558\n",
      "INFO:tensorflow:loss = 0.120645, step = 1701 (1.081 sec)\n",
      "INFO:tensorflow:global_step/sec: 89.2222\n",
      "INFO:tensorflow:loss = 0.11692, step = 1801 (1.121 sec)\n",
      "INFO:tensorflow:global_step/sec: 89.1427\n",
      "INFO:tensorflow:loss = 0.197535, step = 1901 (1.122 sec)\n",
      "INFO:tensorflow:Saving checkpoints for 2000 into ../dnnregressor\\model.ckpt.\n",
      "INFO:tensorflow:Loss for final step: 0.148536.\n"
     ]
    },
    {
     "data": {
      "text/plain": [
       "DNNRegressor(params={'embedding_lr_multipliers': None, 'hidden_units': [10, 20, 10], 'feature_columns': (_NumericColumn(key='host_total_listings_count', shape=(1,), default_value=None, dtype=tf.float32, normalizer_fn=None), _NumericColumn(key='accommodates', shape=(1,), default_value=None, dtype=tf.float32, normalizer_fn=None), _NumericColumn(key='bathrooms', shape=(1,), default_value=None, dtype=tf.float32, normalizer_fn=None), _NumericColumn(key='bedrooms', shape=(1,), default_value=None, dtype=tf.float32, normalizer_fn=None), _NumericColumn(key='beds', shape=(1,), default_value=None, dtype=tf.float32, normalizer_fn=None), _NumericColumn(key='security_deposit', shape=(1,), default_value=None, dtype=tf.float32, normalizer_fn=None), _NumericColumn(key='cleaning_fee', shape=(1,), default_value=None, dtype=tf.float32, normalizer_fn=None), _NumericColumn(key='minimum_nights', shape=(1,), default_value=None, dtype=tf.float32, normalizer_fn=None), _NumericColumn(key='number_of_reviews', shape=(1,), default_value=None, dtype=tf.float32, normalizer_fn=None), _NumericColumn(key='review_scores_value', shape=(1,), default_value=None, dtype=tf.float32, normalizer_fn=None), _IndicatorColumn(categorical_column=_VocabularyListCategoricalColumn(key='host_is_superhost', vocabulary_list=('f', 't'), dtype=tf.string, default_value=-1)), _IndicatorColumn(categorical_column=_VocabularyListCategoricalColumn(key='neighbourhood_cleansed', vocabulary_list=('Jamaica Plain', 'South End', 'Back Bay', 'Fenway', 'Dorchester', 'Allston', 'Beacon Hill', 'Downtown', 'South Boston', 'Brighton', 'East Boston', 'North End', 'Roxbury', 'Charlestown', 'Mission Hill', 'South Boston Waterfront', 'Chinatown', 'West End', 'Roslindale', 'West Roxbury', 'Hyde Park', 'Bay Village', 'Mattapan', 'Longwood Medical Area', 'Leather District'), dtype=tf.string, default_value=-1)), _IndicatorColumn(categorical_column=_VocabularyListCategoricalColumn(key='property_type', vocabulary_list=('Apartment', 'House', 'Condominium', 'Townhouse', 'Bed & Breakfast', 'Loft', 'Other', 'Boat', 'Villa', 'Entire Floor', 'Camper/RV', 'Guesthouse', 'Dorm'), dtype=tf.string, default_value=-1)), _IndicatorColumn(categorical_column=_VocabularyListCategoricalColumn(key='room_type', vocabulary_list=('Entire home/apt', 'Private room', 'Shared room'), dtype=tf.string, default_value=-1)), _IndicatorColumn(categorical_column=_VocabularyListCategoricalColumn(key='bed_type', vocabulary_list=('Real Bed', 'Futon', 'Pull-out Sofa', 'Airbed', 'Couch'), dtype=tf.string, default_value=-1)), _IndicatorColumn(categorical_column=_VocabularyListCategoricalColumn(key='instant_bookable', vocabulary_list=('f', 't'), dtype=tf.string, default_value=-1)), _IndicatorColumn(categorical_column=_VocabularyListCategoricalColumn(key='24-Hour_Check-in', vocabulary_list=(0, 1), dtype=tf.int64, default_value=-1)), _IndicatorColumn(categorical_column=_VocabularyListCategoricalColumn(key='Air_Conditioning', vocabulary_list=(1, 0), dtype=tf.int64, default_value=-1)), _IndicatorColumn(categorical_column=_VocabularyListCategoricalColumn(key='Breakfast', vocabulary_list=(0, 1), dtype=tf.int64, default_value=-1)), _IndicatorColumn(categorical_column=_VocabularyListCategoricalColumn(key='Buzzer/Wireless_Intercom', vocabulary_list=(0, 1), dtype=tf.int64, default_value=-1)), _IndicatorColumn(categorical_column=_VocabularyListCategoricalColumn(key='Cable_TV', vocabulary_list=(1, 0), dtype=tf.int64, default_value=-1)), _IndicatorColumn(categorical_column=_VocabularyListCategoricalColumn(key='Carbon_Monoxide_Detector', vocabulary_list=(1, 0), dtype=tf.int64, default_value=-1)), _IndicatorColumn(categorical_column=_VocabularyListCategoricalColumn(key='Cats', vocabulary_list=(0, 1), dtype=tf.int64, default_value=-1)), _IndicatorColumn(categorical_column=_VocabularyListCategoricalColumn(key='Dogs', vocabulary_list=(0, 1), dtype=tf.int64, default_value=-1)), _IndicatorColumn(categorical_column=_VocabularyListCategoricalColumn(key='Doorman', vocabulary_list=(0, 1), dtype=tf.int64, default_value=-1)), _IndicatorColumn(categorical_column=_VocabularyListCategoricalColumn(key='Dryer', vocabulary_list=(1, 0), dtype=tf.int64, default_value=-1)), _IndicatorColumn(categorical_column=_VocabularyListCategoricalColumn(key='Elevator_in_Building', vocabulary_list=(0, 1), dtype=tf.int64, default_value=-1)), _IndicatorColumn(categorical_column=_VocabularyListCategoricalColumn(key='Essentials', vocabulary_list=(1, 0), dtype=tf.int64, default_value=-1)), _IndicatorColumn(categorical_column=_VocabularyListCategoricalColumn(key='Family/Kid_Friendly', vocabulary_list=(1, 0), dtype=tf.int64, default_value=-1)), _IndicatorColumn(categorical_column=_VocabularyListCategoricalColumn(key='Fire_Extinguisher', vocabulary_list=(0, 1), dtype=tf.int64, default_value=-1)), _IndicatorColumn(categorical_column=_VocabularyListCategoricalColumn(key='First_Aid_Kit', vocabulary_list=(0, 1), dtype=tf.int64, default_value=-1)), _IndicatorColumn(categorical_column=_VocabularyListCategoricalColumn(key='Free_Parking_on_Premises', vocabulary_list=(0, 1), dtype=tf.int64, default_value=-1)), _IndicatorColumn(categorical_column=_VocabularyListCategoricalColumn(key='Free_Parking_on_Street', vocabulary_list=(0, 1), dtype=tf.int64, default_value=-1)), _IndicatorColumn(categorical_column=_VocabularyListCategoricalColumn(key='Gym', vocabulary_list=(0, 1), dtype=tf.int64, default_value=-1)), _IndicatorColumn(categorical_column=_VocabularyListCategoricalColumn(key='Hair_Dryer', vocabulary_list=(1, 0), dtype=tf.int64, default_value=-1)), _IndicatorColumn(categorical_column=_VocabularyListCategoricalColumn(key='Hangers', vocabulary_list=(1, 0), dtype=tf.int64, default_value=-1)), _IndicatorColumn(categorical_column=_VocabularyListCategoricalColumn(key='Heating', vocabulary_list=(1, 0), dtype=tf.int64, default_value=-1)), _IndicatorColumn(categorical_column=_VocabularyListCategoricalColumn(key='Hot_Tub', vocabulary_list=(0, 1), dtype=tf.int64, default_value=-1)), _IndicatorColumn(categorical_column=_VocabularyListCategoricalColumn(key='Indoor_Fireplace', vocabulary_list=(0, 1), dtype=tf.int64, default_value=-1)), _IndicatorColumn(categorical_column=_VocabularyListCategoricalColumn(key='Internet', vocabulary_list=(1, 0), dtype=tf.int64, default_value=-1)), _IndicatorColumn(categorical_column=_VocabularyListCategoricalColumn(key='Iron', vocabulary_list=(1, 0), dtype=tf.int64, default_value=-1)), _IndicatorColumn(categorical_column=_VocabularyListCategoricalColumn(key='Kitchen', vocabulary_list=(1, 0), dtype=tf.int64, default_value=-1)), _IndicatorColumn(categorical_column=_VocabularyListCategoricalColumn(key='Laptop_Friendly_Workspace', vocabulary_list=(1, 0), dtype=tf.int64, default_value=-1)), _IndicatorColumn(categorical_column=_VocabularyListCategoricalColumn(key='Lock_on_Bedroom_Door', vocabulary_list=(0, 1), dtype=tf.int64, default_value=-1)), _IndicatorColumn(categorical_column=_VocabularyListCategoricalColumn(key='Other_pets', vocabulary_list=(0, 1), dtype=tf.int64, default_value=-1)), _IndicatorColumn(categorical_column=_VocabularyListCategoricalColumn(key='Paid_Parking_Off_Premises', vocabulary_list=(0, 1), dtype=tf.int64, default_value=-1)), _IndicatorColumn(categorical_column=_VocabularyListCategoricalColumn(key='Pets_Allowed', vocabulary_list=(0, 1), dtype=tf.int64, default_value=-1)), _IndicatorColumn(categorical_column=_VocabularyListCategoricalColumn(key='Pets_live_on_this_property', vocabulary_list=(0, 1), dtype=tf.int64, default_value=-1)), _IndicatorColumn(categorical_column=_VocabularyListCategoricalColumn(key='Pool', vocabulary_list=(0, 1), dtype=tf.int64, default_value=-1)), _IndicatorColumn(categorical_column=_VocabularyListCategoricalColumn(key='Safety_Card', vocabulary_list=(0, 1), dtype=tf.int64, default_value=-1)), _IndicatorColumn(categorical_column=_VocabularyListCategoricalColumn(key='Shampoo', vocabulary_list=(1, 0), dtype=tf.int64, default_value=-1)), _IndicatorColumn(categorical_column=_VocabularyListCategoricalColumn(key='Smoke_Detector', vocabulary_list=(1, 0), dtype=tf.int64, default_value=-1)), _IndicatorColumn(categorical_column=_VocabularyListCategoricalColumn(key='Smoking_Allowed', vocabulary_list=(0, 1), dtype=tf.int64, default_value=-1)), _IndicatorColumn(categorical_column=_VocabularyListCategoricalColumn(key='Suitable_for_Events', vocabulary_list=(0, 1), dtype=tf.int64, default_value=-1)), _IndicatorColumn(categorical_column=_VocabularyListCategoricalColumn(key='TV', vocabulary_list=(1, 0), dtype=tf.int64, default_value=-1)), _IndicatorColumn(categorical_column=_VocabularyListCategoricalColumn(key='Washer', vocabulary_list=(1, 0), dtype=tf.int64, default_value=-1)), _IndicatorColumn(categorical_column=_VocabularyListCategoricalColumn(key='Washer_/_Dryer', vocabulary_list=(0, 1), dtype=tf.int64, default_value=-1)), _IndicatorColumn(categorical_column=_VocabularyListCategoricalColumn(key='Wheelchair_Accessible', vocabulary_list=(0, 1), dtype=tf.int64, default_value=-1)), _IndicatorColumn(categorical_column=_VocabularyListCategoricalColumn(key='Wireless_Internet', vocabulary_list=(1, 0), dtype=tf.int64, default_value=-1))), 'head': <tensorflow.contrib.learn.python.learn.estimators.head._RegressionHead object at 0x0000005EC1051668>, 'activation_fn': <function relu at 0x0000005EA97DD488>, 'optimizer': None, 'input_layer_min_slice_size': None, 'dropout': None, 'gradient_clip_norm': None})"
      ]
     },
     "execution_count": 29,
     "metadata": {},
     "output_type": "execute_result"
    }
   ],
   "source": [
    "dnnregressor.fit(input_fn=training_input_fn, steps=2000)"
   ]
  },
  {
   "cell_type": "markdown",
   "metadata": {},
   "source": [
    "We evaluate the model by passing the input function for the test dataset."
   ]
  },
  {
   "cell_type": "code",
   "execution_count": 30,
   "metadata": {},
   "outputs": [
    {
     "name": "stdout",
     "output_type": "stream",
     "text": [
      "WARNING:tensorflow:From C:\\Users\\User\\Anaconda3\\envs\\py35\\lib\\site-packages\\tensorflow\\contrib\\learn\\python\\learn\\estimators\\head.py:625: scalar_summary (from tensorflow.python.ops.logging_ops) is deprecated and will be removed after 2016-11-30.\n",
      "Instructions for updating:\n",
      "Please switch to tf.summary.scalar. Note that tf.summary.scalar uses the node name instead of the tag. This means that TensorFlow will automatically de-duplicate summary names based on the scope they are created in. Also, passing a tensor or list of tags to a scalar summary op is no longer supported.\n",
      "INFO:tensorflow:Starting evaluation at 2017-08-25-20:08:36\n",
      "INFO:tensorflow:Restoring parameters from ../dnnregressor\\model.ckpt-2000\n",
      "INFO:tensorflow:Finished evaluation at 2017-08-25-20:08:39\n",
      "INFO:tensorflow:Saving dict for global step 2000: global_step = 2000, loss = 0.125167\n"
     ]
    },
    {
     "data": {
      "text/plain": [
       "{'global_step': 2000, 'loss': 0.12516657}"
      ]
     },
     "execution_count": 30,
     "metadata": {},
     "output_type": "execute_result"
    }
   ],
   "source": [
    "dnnregressor.evaluate(input_fn = eval_input_fn)\n"
   ]
  },
  {
   "cell_type": "markdown",
   "metadata": {},
   "source": [
    "It looks like the model has 0.09 as loss, which is roughly same as the linear regressor model, but we can easily change the neural network model structure by varying the number of hidden units in each layer with the ```hidden_units``` parameter and see if we can improve the results. We can generate predictions like before and visualize them."
   ]
  },
  {
   "cell_type": "code",
   "execution_count": 31,
   "metadata": {},
   "outputs": [
    {
     "name": "stdout",
     "output_type": "stream",
     "text": [
      "INFO:tensorflow:Restoring parameters from ../dnnregressor\\model.ckpt-2000\n"
     ]
    },
    {
     "data": {
      "image/png": "[encoded data removed]",
      "text/plain": [
       "<matplotlib.figure.Figure at 0x5ebd67c748>"
      ]
     },
     "metadata": {},
     "output_type": "display_data"
    }
   ],
   "source": [
    "dnnpred = list(dnnregressor.predict_scores(input_fn=eval_input_fn))\n",
    "plt.scatter(y_test,pred,alpha = 1)\n",
    "plt.xlabel(\"actual values\")\n",
    "plt.ylabel(\"predicted values\")\n",
    "plt.title(\"Neural Network Model Predictions\");"
   ]
  },
  {
   "cell_type": "markdown",
   "metadata": {},
   "source": [
    "We can visualize the loss and the model using Tensorboard, but we have to pass the model directory for the neural network model here.\n",
    "\n",
    "\n",
    "![](../images/loss_dnn.png)\n",
    "\n",
    "\n",
    "We can see the hidden layers of the model by selecting that subgraph.\n",
    "\n",
    "![](../images/dnn2.png)\n",
    "\n",
    "\n",
    "# Recap\n",
    "\n",
    "To summarize, we have used two regression ```estimators``` here. First one is a linear model and the second one is a neural network model. For using them we have done some data cleaning in the beginning. Then we defined the feature columns and instantiated the model. For training the models we called the ```fit``` method and fed the data to the model using an input function. After that we evaluated the model with the ```evaluate``` method and visualized the predictions. We have also learnt how to visualize the loss and the models using Tensorboard.\n",
    "\n",
    "\n",
    "# Next steps : \n",
    "\n",
    "* Use the same techniques on a different dataset. See [18 places to find datasets for your project](https://www.dataquest.io/blog/free-datasets-for-projects/) by Dataquest to find a good dataset you may like.\n",
    "\n",
    "* Tensorflow's high level api comes with many more models including the ones for classification and Tensorforest, K-nearest etc. Explore [these](https://www.tensorflow.org/api_docs/python/tf/contrib/learn) and apply on a dataset of your choice.\n",
    "\n",
    "* If you are familiar with advanced deep learning topics like convolutional neural network, LTSM networks etc, use the [Keras](https://keras.io/) library for practice. Keras is another high level api representation of tensorflow that comes with it.\n",
    "\n",
    "* [Create](https://www.tensorflow.org/extend/estimators) your own estimator! \n",
    "\n",
    "# References\n",
    "\n",
    "* https://www.tensorflow.org/tutorials/linear\n",
    "* https://www.tensorflow.org/get_started/tflearn\n",
    "* [Effective Tensorflow for non experts](https://www.youtube.com/watch?v=5DknTFbcGVM&t=13s)\n",
    "* https://www.tensorflow.org/get_started/input_fn\n",
    "* https://www.tensorflow.org/tutorials/wide_and_deep"
   ]
  },
  {
   "cell_type": "code",
   "execution_count": null,
   "metadata": {
    "collapsed": true
   },
   "outputs": [],
   "source": []
  }
 ],
 "metadata": {
  "kernelspec": {
   "display_name": "Python 3",
   "language": "python",
   "name": "python3"
  },
  "language_info": {
   "codemirror_mode": {
    "name": "ipython",
    "version": 3
   },
   "file_extension": ".py",
   "mimetype": "text/x-python",
   "name": "python",
   "nbconvert_exporter": "python",
   "pygments_lexer": "ipython3",
   "version": "3.5.3"
  }
 },
 "nbformat": 4,
 "nbformat_minor": 2
}
