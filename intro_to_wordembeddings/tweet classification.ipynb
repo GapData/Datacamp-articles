{
 "cells": [
  {
   "cell_type": "markdown",
   "metadata": {},
   "source": [
    "# Todo : \n",
    "\n",
    "* Study Tf-idf and use it with SVM\n",
    "* Study 1D Convolutional Neural networks\n",
    "* Convert visualizations to Seaborn"
   ]
  },
  {
   "cell_type": "code",
   "execution_count": 1,
   "metadata": {
    "collapsed": true
   },
   "outputs": [],
   "source": [
    "import pandas as pd\n",
    "import numpy as np\n",
    "import matplotlib.pyplot as plt\n",
    "import seaborn as sns\n",
    "%matplotlib inline"
   ]
  },
  {
   "cell_type": "code",
   "execution_count": 2,
   "metadata": {
    "collapsed": true
   },
   "outputs": [],
   "source": [
    "columns = ['handle','text','is_retweet','original_author','source_url']\n",
    "\n",
    "tweets  = pd.read_csv(\"tweets.csv\",usecols=columns)"
   ]
  },
  {
   "cell_type": "code",
   "execution_count": 3,
   "metadata": {},
   "outputs": [
    {
     "data": {
      "text/html": [
       "<div>\n",
       "<style>\n",
       "    .dataframe thead tr:only-child th {\n",
       "        text-align: right;\n",
       "    }\n",
       "\n",
       "    .dataframe thead th {\n",
       "        text-align: left;\n",
       "    }\n",
       "\n",
       "    .dataframe tbody tr th {\n",
       "        vertical-align: top;\n",
       "    }\n",
       "</style>\n",
       "<table border=\"1\" class=\"dataframe\">\n",
       "  <thead>\n",
       "    <tr style=\"text-align: right;\">\n",
       "      <th></th>\n",
       "      <th>handle</th>\n",
       "      <th>text</th>\n",
       "      <th>is_retweet</th>\n",
       "      <th>original_author</th>\n",
       "      <th>source_url</th>\n",
       "    </tr>\n",
       "  </thead>\n",
       "  <tbody>\n",
       "    <tr>\n",
       "      <th>0</th>\n",
       "      <td>HillaryClinton</td>\n",
       "      <td>The question in this election: Who can put the...</td>\n",
       "      <td>False</td>\n",
       "      <td>NaN</td>\n",
       "      <td>https://studio.twitter.com</td>\n",
       "    </tr>\n",
       "    <tr>\n",
       "      <th>1</th>\n",
       "      <td>HillaryClinton</td>\n",
       "      <td>Last night, Donald Trump said not paying taxes...</td>\n",
       "      <td>True</td>\n",
       "      <td>timkaine</td>\n",
       "      <td>http://twitter.com</td>\n",
       "    </tr>\n",
       "    <tr>\n",
       "      <th>2</th>\n",
       "      <td>HillaryClinton</td>\n",
       "      <td>Couldn't be more proud of @HillaryClinton. Her...</td>\n",
       "      <td>True</td>\n",
       "      <td>POTUS</td>\n",
       "      <td>https://about.twitter.com/products/tweetdeck</td>\n",
       "    </tr>\n",
       "    <tr>\n",
       "      <th>3</th>\n",
       "      <td>HillaryClinton</td>\n",
       "      <td>If we stand together, there's nothing we can't...</td>\n",
       "      <td>False</td>\n",
       "      <td>NaN</td>\n",
       "      <td>https://studio.twitter.com</td>\n",
       "    </tr>\n",
       "    <tr>\n",
       "      <th>4</th>\n",
       "      <td>HillaryClinton</td>\n",
       "      <td>Both candidates were asked about how they'd co...</td>\n",
       "      <td>False</td>\n",
       "      <td>NaN</td>\n",
       "      <td>https://about.twitter.com/products/tweetdeck</td>\n",
       "    </tr>\n",
       "  </tbody>\n",
       "</table>\n",
       "</div>"
      ],
      "text/plain": [
       "           handle                                               text  \\\n",
       "0  HillaryClinton  The question in this election: Who can put the...   \n",
       "1  HillaryClinton  Last night, Donald Trump said not paying taxes...   \n",
       "2  HillaryClinton  Couldn't be more proud of @HillaryClinton. Her...   \n",
       "3  HillaryClinton  If we stand together, there's nothing we can't...   \n",
       "4  HillaryClinton  Both candidates were asked about how they'd co...   \n",
       "\n",
       "   is_retweet original_author                                    source_url  \n",
       "0       False             NaN                    https://studio.twitter.com  \n",
       "1        True        timkaine                            http://twitter.com  \n",
       "2        True           POTUS  https://about.twitter.com/products/tweetdeck  \n",
       "3       False             NaN                    https://studio.twitter.com  \n",
       "4       False             NaN  https://about.twitter.com/products/tweetdeck  "
      ]
     },
     "execution_count": 3,
     "metadata": {},
     "output_type": "execute_result"
    }
   ],
   "source": [
    "tweets.head()"
   ]
  },
  {
   "cell_type": "code",
   "execution_count": 4,
   "metadata": {},
   "outputs": [
    {
     "data": {
      "text/plain": [
       "<matplotlib.text.Text at 0x2aeafdd748>"
      ]
     },
     "execution_count": 4,
     "metadata": {},
     "output_type": "execute_result"
    },
    {
     "data": {
      "image/png": "[encoded data removed]",
      "text/plain": [
       "<matplotlib.figure.Figure at 0x2ae7944e80>"
      ]
     },
     "metadata": {},
     "output_type": "display_data"
    }
   ],
   "source": [
    "sns.countplot(y='source_url', hue = 'handle', data=tweets)\n",
    "plt.title('Tweet Devices used by Hilary and Trump ')"
   ]
  },
  {
   "cell_type": "code",
   "execution_count": 5,
   "metadata": {},
   "outputs": [
    {
     "data": {
      "text/plain": [
       "<matplotlib.axes._subplots.AxesSubplot at 0x2aeaf6c160>"
      ]
     },
     "execution_count": 5,
     "metadata": {},
     "output_type": "execute_result"
    },
    {
     "data": {
      "image/png": "[encoded data removed]",
      "text/plain": [
       "<matplotlib.figure.Figure at 0x2aeafa2ac8>"
      ]
     },
     "metadata": {},
     "output_type": "display_data"
    }
   ],
   "source": [
    "tweets['handle'].value_counts().plot(kind='barh')"
   ]
  },
  {
   "cell_type": "code",
   "execution_count": 6,
   "metadata": {
    "collapsed": true
   },
   "outputs": [],
   "source": [
    "from nltk.tokenize import TweetTokenizer\n",
    "tknzr = TweetTokenizer()"
   ]
  },
  {
   "cell_type": "code",
   "execution_count": 7,
   "metadata": {
    "collapsed": true
   },
   "outputs": [],
   "source": [
    "tokenized_tweets = []\n",
    "\n",
    "for tweet in tweets['text']:\n",
    "    tokenized_tweets.append(tknzr.tokenize(tweet))"
   ]
  },
  {
   "cell_type": "code",
   "execution_count": 8,
   "metadata": {
    "collapsed": true
   },
   "outputs": [],
   "source": [
    "tweets['tokenized_tweets'] = pd.Series(tokenized_tweets)"
   ]
  },
  {
   "cell_type": "code",
   "execution_count": 9,
   "metadata": {
    "collapsed": true
   },
   "outputs": [],
   "source": [
    "hilary = tweets[tweets['handle']=='HillaryClinton']\n",
    "trump = tweets[tweets['handle']=='realDonaldTrump']"
   ]
  },
  {
   "cell_type": "code",
   "execution_count": 10,
   "metadata": {
    "collapsed": true
   },
   "outputs": [],
   "source": [
    "hilary_hashtags = []\n",
    "for sentences in hilary['tokenized_tweets']:\n",
    "    for token in sentences:\n",
    "        if token.startswith('#'):\n",
    "            hilary_hashtags.append(token)"
   ]
  },
  {
   "cell_type": "code",
   "execution_count": 11,
   "metadata": {},
   "outputs": [
    {
     "data": {
      "text/plain": [
       "''"
      ]
     },
     "execution_count": 11,
     "metadata": {},
     "output_type": "execute_result"
    },
    {
     "data": {
      "image/png": "[encoded data removed]",
      "text/plain": [
       "<matplotlib.figure.Figure at 0x2aed87ea90>"
      ]
     },
     "metadata": {},
     "output_type": "display_data"
    },
    {
     "data": {
      "text/plain": [
       "<matplotlib.figure.Figure at 0x2aed87e978>"
      ]
     },
     "metadata": {},
     "output_type": "display_data"
    }
   ],
   "source": [
    "plt.style.use('ggplot')\n",
    "pd.Series(hilary_hashtags).value_counts(ascending=True)[-20:].plot(kind='barh')\n",
    "plt.title(\"Top 20 Hashtags used by #HilaryClinton\")\n",
    "plt.figure(figsize=(12,10))\n",
    ";"
   ]
  },
  {
   "cell_type": "code",
   "execution_count": 12,
   "metadata": {
    "collapsed": true
   },
   "outputs": [],
   "source": [
    "trump_hashtags = []\n",
    "for sentences in trump['tokenized_tweets']:\n",
    "    for token in sentences:\n",
    "        if token.startswith('#'):\n",
    "            trump_hashtags.append(token)"
   ]
  },
  {
   "cell_type": "code",
   "execution_count": 13,
   "metadata": {},
   "outputs": [
    {
     "data": {
      "text/plain": [
       "''"
      ]
     },
     "execution_count": 13,
     "metadata": {},
     "output_type": "execute_result"
    },
    {
     "data": {
      "image/png": "[encoded data removed]",
      "text/plain": [
       "<matplotlib.figure.Figure at 0x2aed90a710>"
      ]
     },
     "metadata": {},
     "output_type": "display_data"
    },
    {
     "data": {
      "text/plain": [
       "<matplotlib.figure.Figure at 0x2aed8f6ef0>"
      ]
     },
     "metadata": {},
     "output_type": "display_data"
    }
   ],
   "source": [
    "plt.style.use('ggplot')\n",
    "pd.Series(trump_hashtags).value_counts(ascending=True)[-20:].plot(kind='barh')\n",
    "plt.title(\"Top 20 Hashtags used by #OhSoSmartDonaldTrump\")\n",
    "plt.figure(figsize=(12,10))\n",
    ";"
   ]
  },
  {
   "cell_type": "markdown",
   "metadata": {
    "collapsed": true
   },
   "source": [
    "# Corpus making"
   ]
  },
  {
   "cell_type": "code",
   "execution_count": 75,
   "metadata": {
    "collapsed": true
   },
   "outputs": [],
   "source": [
    "from nltk.corpus import stopwords\n",
    "stopwords_list = stopwords.words('english') + ['','-',';','\"',\"\"]"
   ]
  },
  {
   "cell_type": "code",
   "execution_count": 82,
   "metadata": {
    "collapsed": true
   },
   "outputs": [],
   "source": [
    "def clean_tweets(tweet):\n",
    "    cleaned_tweet = [re.sub('[^A-Za-z0-9@#.]+', ' ', token) for token in tweet]\n",
    "    cleaned_tweet = [token for token in tweet if token not in stopwords_list]\n",
    "    return cleaned_tweet\n",
    "        "
   ]
  },
  {
   "cell_type": "code",
   "execution_count": 104,
   "metadata": {
    "collapsed": true
   },
   "outputs": [],
   "source": [
    "tweets['tokenized_tweets'] = tweets['tokenized_tweets'].apply(lambda x:clean_tweets(x))"
   ]
  },
  {
   "cell_type": "code",
   "execution_count": 78,
   "metadata": {
    "collapsed": true
   },
   "outputs": [],
   "source": [
    "import re"
   ]
  },
  {
   "cell_type": "code",
   "execution_count": 28,
   "metadata": {},
   "outputs": [
    {
     "data": {
      "text/plain": [
       "' '"
      ]
     },
     "execution_count": 28,
     "metadata": {},
     "output_type": "execute_result"
    }
   ],
   "source": [
    "re.sub('[^A-Za-z0-9@#.]+', ' ', \":\")"
   ]
  },
  {
   "cell_type": "code",
   "execution_count": 73,
   "metadata": {},
   "outputs": [
    {
     "data": {
      "text/plain": [
       "\"don't\""
      ]
     },
     "execution_count": 73,
     "metadata": {},
     "output_type": "execute_result"
    }
   ],
   "source": [
    "re.sub('#@[\\\\W+]','',\"don't\")"
   ]
  },
  {
   "cell_type": "code",
   "execution_count": 103,
   "metadata": {},
   "outputs": [
    {
     "data": {
      "text/plain": [
       "EricTrump          17\n",
       "DRUDGE_REPORT       9\n",
       "DonaldJTrumpJr      8\n",
       "DanScavino          8\n",
       "TeamTrump           6\n",
       "AnnCoulter          5\n",
       "IvankaTrump         4\n",
       "JoeNBC              4\n",
       "foxandfriends       3\n",
       "RSBNetwork          3\n",
       "RealBenCarson       3\n",
       "CLewandowski_       3\n",
       "LouDobbs            2\n",
       "Carl_C_Icahn        2\n",
       "gatewaypundit       2\n",
       "greta               2\n",
       "seanhannity         2\n",
       "NRA                 2\n",
       "mike_pence          2\n",
       "KellyannePolls      2\n",
       "GOP                 2\n",
       "IngrahamAngle       1\n",
       "Reince              1\n",
       "Morning_Joe         1\n",
       "namusca             1\n",
       "robertjeffress      1\n",
       "piersmorgan         1\n",
       "realDonaldTrump     1\n",
       "GeraldoRivera       1\n",
       "JaniceTaylor912     1\n",
       "williebosshog       1\n",
       "AdrianaCohen16      1\n",
       "FieldofFight        1\n",
       "rupertmurdoch       1\n",
       "JohnStossel         1\n",
       "TomOdell            1\n",
       "GMA                 1\n",
       "BarackObama         1\n",
       "ErinBurnett         1\n",
       "FoxBusiness         1\n",
       "CBSNews             1\n",
       "MarkHalperin        1\n",
       "GovMikeHuckabee     1\n",
       "ScottAdamsSays      1\n",
       "BretEastonEllis     1\n",
       "dmartosko           1\n",
       "NFIB                1\n",
       "DarrenJJordan       1\n",
       "dcexaminer          1\n",
       "kevcirilli          1\n",
       "FoxNews             1\n",
       "TrumpNV             1\n",
       "newtgingrich        1\n",
       "benshapiro          1\n",
       "SarahPalinUSA       1\n",
       "Name: original_author, dtype: int64"
      ]
     },
     "execution_count": 103,
     "metadata": {},
     "output_type": "execute_result"
    }
   ],
   "source": [
    "tweets[(tweets['handle'] == 'realDonaldTrump') & (tweets['is_retweet']==True)]['original_author'].value_counts()"
   ]
  },
  {
   "cell_type": "code",
   "execution_count": 101,
   "metadata": {},
   "outputs": [
    {
     "data": {
      "text/plain": [
       "TheBriefing2016    79\n",
       "HFA                56\n",
       "timkaine           42\n",
       "Hillary_esp        22\n",
       "JoeBiden           15\n",
       "johnpodesta        12\n",
       "mayaharris_        11\n",
       "BernieSanders       9\n",
       "rosenbergerlm       8\n",
       "ChelseaClinton      7\n",
       "Jorge_Silva         7\n",
       "Ann_OLeary          7\n",
       "mikereedschmidt     6\n",
       "elizabethforma      6\n",
       "billclinton         6\n",
       "lorellapraeli       6\n",
       "WhiteHouse          5\n",
       "dominiclowell       5\n",
       "HillaryforVA        5\n",
       "HillaryforPA        5\n",
       "nytimes             4\n",
       "POTUS               4\n",
       "repjohnlewis        4\n",
       "mpshapiro           4\n",
       "GabbyGiffords       4\n",
       "jmurray20           4\n",
       "MarlonDMarshall     3\n",
       "TheDemocrats        3\n",
       "BuzzFeed            3\n",
       "sarajacobs89        3\n",
       "                   ..\n",
       "jasoncollins98      1\n",
       "CNBCnow             1\n",
       "originalgriz        1\n",
       "Newsweek            1\n",
       "mikiebarb           1\n",
       "businessinsider     1\n",
       "YoungPwD4HRC        1\n",
       "PolitiFact          1\n",
       "NPR                 1\n",
       "tedcruz             1\n",
       "HillaryforNH        1\n",
       "MSNBC               1\n",
       "ConstanceZimmer     1\n",
       "AFLCIO              1\n",
       "Everytown           1\n",
       "BuzzFeedBen         1\n",
       "Refinery29          1\n",
       "Slate               1\n",
       "EveryVoice          1\n",
       "DemConvention       1\n",
       "Morning_Joe         1\n",
       "Lin_Manuel          1\n",
       "kylegriffin1        1\n",
       "CNNPolitics         1\n",
       "meredeetch          1\n",
       "RepJohnLarson       1\n",
       "rhettbuttle         1\n",
       "wdasfm              1\n",
       "Yamiche             1\n",
       "ABC                 1\n",
       "Name: original_author, Length: 225, dtype: int64"
      ]
     },
     "execution_count": 101,
     "metadata": {},
     "output_type": "execute_result"
    }
   ],
   "source": [
    "tweets[(tweets['handle'] == 'HillaryClinton') & (tweets['is_retweet']==True)]['original_author'].value_counts()"
   ]
  },
  {
   "cell_type": "code",
   "execution_count": 105,
   "metadata": {
    "collapsed": true
   },
   "outputs": [],
   "source": [
    "original_tweets = tweets[tweets['is_retweet']==False]"
   ]
  },
  {
   "cell_type": "code",
   "execution_count": 108,
   "metadata": {
    "collapsed": true
   },
   "outputs": [],
   "source": [
    "corpus = original_tweets['tokenized_tweets']"
   ]
  },
  {
   "cell_type": "code",
   "execution_count": 109,
   "metadata": {
    "collapsed": true
   },
   "outputs": [],
   "source": [
    "target = original_tweets['handle']"
   ]
  },
  {
   "cell_type": "code",
   "execution_count": 112,
   "metadata": {
    "collapsed": true
   },
   "outputs": [],
   "source": [
    "import string"
   ]
  },
  {
   "cell_type": "code",
   "execution_count": 117,
   "metadata": {},
   "outputs": [
    {
     "data": {
      "text/plain": [
       "['!',\n",
       " '\"',\n",
       " '#',\n",
       " '$',\n",
       " '%',\n",
       " '&',\n",
       " \"'\",\n",
       " '(',\n",
       " ')',\n",
       " '*',\n",
       " '+',\n",
       " ',',\n",
       " '-',\n",
       " '.',\n",
       " '/',\n",
       " ':',\n",
       " ';',\n",
       " '<',\n",
       " '=',\n",
       " '>',\n",
       " '?',\n",
       " '@',\n",
       " '[',\n",
       " '\\\\',\n",
       " ']',\n",
       " '^',\n",
       " '_',\n",
       " '`',\n",
       " '{',\n",
       " '|',\n",
       " '}',\n",
       " '~']"
      ]
     },
     "execution_count": 117,
     "metadata": {},
     "output_type": "execute_result"
    }
   ],
   "source": [
    "list(string.punctuation)"
   ]
  },
  {
   "cell_type": "code",
   "execution_count": 110,
   "metadata": {},
   "outputs": [
    {
     "data": {
      "text/plain": [
       "0       [The, question, election, :, Who, put, plans, ...\n",
       "3       [If, stand, together, ,, there's, nothing, can...\n",
       "4       [Both, candidates, asked, they'd, confront, ra...\n",
       "5       [Join, 3pm, rally, tomorrow, Mid-America, Cent...\n",
       "6       [This, election, important, sit, ., Go, https:...\n",
       "7       [When, Donald, Trump, goes, low, ..., register...\n",
       "8       [Once, ,, government, ,, people, ., Join, MOVE...\n",
       "12      [Hillary, Clinton's, Campaign, Continues, To, ...\n",
       "13      [', CNBC, ,, Time, magazine, online, polls, sa...\n",
       "14      [Donald, Trump, lied, American, people, least,...\n",
       "15      [Great, afternoon, Little, Havana, Hispanic, c...\n",
       "16      [In, last, 24, hrs, ., raised, $, 13M, online,...\n",
       "17      [“, She, gained, 55, pounds, ..., 9, months, ....\n",
       "18      [It's, #NationalVoterRegistrationDay, ., Celeb...\n",
       "19      [I, love, country, ., I, ’, proud, country, .,...\n",
       "20      [We, ’, want, turn, ., We, want, work, one, an...\n",
       "21      [What, hear, opponent, dangerously, incoherent...\n",
       "22      [One, candidate, made, clear, ’, prepared, las...\n",
       "23      [What, kind, person, would, want, root, 9, mil...\n",
       "24      [I, ’, think, family, pay, 10, %, income, chil...\n",
       "25      [I, ’, really, glad, dad, never, contract, Don...\n",
       "26      [When, work, hard, ,, living, poverty, ., http...\n",
       "27      [Well, ,, they're, saying, I, NBC, Presidentia...\n",
       "28      [We, may, record-setting, turnout, election, ....\n",
       "29      [You, go, https://t.co/tTgeqxNqYm, make, sure,...\n",
       "30      [Join, Hillary, live, NC, first, rally, since,...\n",
       "32      [“, Donald, criticized, preparing, debate, ., ...\n",
       "33      [Thank, endorsement, ,, @GovernorSununu, ., #M...\n",
       "34      [Hillary, winner, first, presidential, debate,...\n",
       "38      [She, gained, massive, amount, weight, ..., re...\n",
       "                              ...                        \n",
       "6414    [It, wise, move, Ted, Cruz, renounced, Canadia...\n",
       "6415    [., @Macys, one, worst, performing, stocks, S,...\n",
       "6416    [The, failing, @UnionLeader, newspaper, N, ., ...\n",
       "6417    [Do, believe, @UnionLeader, NH, demanding, ads...\n",
       "6418    [I, @wolfblitzer, @CNNSitRoom, interview, toda...\n",
       "6419    [Huge, crowd, expected, tomorrow, night, !, VT...\n",
       "6420    [Don, ’, like, @SamuelLJackson, ’, golf, swing...\n",
       "6421    [I, ’, cheat, golf, @SamuelLJackson, cheats, —...\n",
       "6422    [HAPPY, BIRTHDAY, son, ,, @EricTrump, !, Very,...\n",
       "6423    [Germany, going, massive, attacks, people, mig...\n",
       "6424    [@becker_berta, :, @longtalltexan20, Trump, si...\n",
       "6425    [@ArkaysDesign, :, @slone, @realDonaldTrump, H...\n",
       "6426    [@CompresPhyllis, :, @seanhannity, @FoxNews, I...\n",
       "6427    [@Kacee50, :, @realDonaldTrump, Women, make, f...\n",
       "6428    [@kristopheryan11, :, @realDonaldTrump, mr, tr...\n",
       "6429    [@dantegtmeyer, :, #, ISIS, Reportedly, Murder...\n",
       "6430    [@Boazziz, :, ., @DanScavino, Somewhere, crowd...\n",
       "6431    [@RubinsteinNel, :, @realDonaldTrump, @pearl_b...\n",
       "6432    [@trumpy17, :, @realDonaldTrump, gave, AWESOME...\n",
       "6433    [@pearl_brendan, :, @dphilbs, @realDonaldTrump...\n",
       "6434    [I, New, Hampshire, ., Just, received, great, ...\n",
       "6435    [@longtalltexan20, @realDonaldTrump, I, love, ...\n",
       "6436    [@Lucky5713, @NewDay, What's, wrong, showing, ...\n",
       "6437    [I, ’, know, @SamuelLJackson, ,, best, knowled...\n",
       "6438    [Wow, @UnionLeader, circulation, NH, dropped, ...\n",
       "6439    [@lilredfrmkokomo, :, @realDonaldTrump, My, Fa...\n",
       "6440    [@marybnall01, :, @realDonaldTrump, watched, l...\n",
       "6441    [@ghosthunter_lol, :, Iowa, key, endorsement, ...\n",
       "6442    [@iLoveiDevices, :, @EdwinRo47796972, @happyja...\n",
       "6443    [@SalRiccobono, :, @realDonaldTrump, @troyconw...\n",
       "Name: tokenized_tweets, Length: 5722, dtype: object"
      ]
     },
     "execution_count": 110,
     "metadata": {},
     "output_type": "execute_result"
    }
   ],
   "source": [
    "corpus"
   ]
  },
  {
   "cell_type": "code",
   "execution_count": null,
   "metadata": {
    "collapsed": true
   },
   "outputs": [],
   "source": []
  }
 ],
 "metadata": {
  "kernelspec": {
   "display_name": "Python 3",
   "language": "python",
   "name": "python3"
  },
  "language_info": {
   "codemirror_mode": {
    "name": "ipython",
    "version": 3
   },
   "file_extension": ".py",
   "mimetype": "text/x-python",
   "name": "python",
   "nbconvert_exporter": "python",
   "pygments_lexer": "ipython3",
   "version": "3.5.3"
  }
 },
 "nbformat": 4,
 "nbformat_minor": 2
}
